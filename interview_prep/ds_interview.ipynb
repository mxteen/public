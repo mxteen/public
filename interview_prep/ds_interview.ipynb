{
 "cells": [
  {
   "cell_type": "markdown",
   "id": "36cedf0c-a0af-4d6a-aaa5-f1d01012c833",
   "metadata": {},
   "source": [
    "# Подготовка к собеседованиям"
   ]
  },
  {
   "cell_type": "markdown",
   "id": "b25ee839-c32a-4da6-aa7e-9d067e7e605b",
   "metadata": {},
   "source": [
    "## Вопросы по Python, SQL, теории вероятности"
   ]
  },
  {
   "cell_type": "markdown",
   "id": "c79f0dde-a3c2-4bf9-ba78-ecc24c9a8434",
   "metadata": {},
   "source": [
    "### Добыча вопросов"
   ]
  },
  {
   "cell_type": "code",
   "execution_count": 2,
   "id": "bcd499b3-ee01-4860-a55e-783a767180ff",
   "metadata": {},
   "outputs": [],
   "source": [
    "# !pip install beautifulsoup4"
   ]
  },
  {
   "cell_type": "code",
   "execution_count": 66,
   "id": "9ad26b47-b9c4-4946-ac13-219844e7974d",
   "metadata": {},
   "outputs": [],
   "source": [
    "import requests\n",
    "from bs4 import BeautifulSoup\n",
    "import re\n",
    "import random\n",
    "\n",
    "\n",
    "def parse_headers(link, header_level='h2'):\n",
    "    parsed_headers = []\n",
    "    try:\n",
    "        # Send a GET request to the provided link\n",
    "        response = requests.get(link)\n",
    "        # Check if the request was successful\n",
    "        if response.status_code == 200:\n",
    "            # Parse the HTML content of the page using BeautifulSoup\n",
    "            soup = BeautifulSoup(response.content, 'html.parser')\n",
    "            # Find all headers and extract their text\n",
    "            h2_headers = soup.find_all(header_level)\n",
    "            # Extract text from each header and append it to the list\n",
    "            for header in h2_headers:\n",
    "                parsed_headers.append(header.text.strip())\n",
    "        else:\n",
    "            print(\"Failed to retrieve the webpage. Status code:\", response.status_code)\n",
    "    except Exception as e:\n",
    "        print(\"An error occurred:\", str(e))\n",
    "    return parsed_headers\n",
    "\n",
    "\n",
    "def remove_digits_from_start(strings):\n",
    "    # Compile a regex pattern to match digits at the start of a string\n",
    "    pattern = re.compile(r'^\\d+\\.\\s*')\n",
    "    # Remove digits from the beginning of each string\n",
    "    cleaned_strings = [pattern.sub('', s) for s in strings]\n",
    "    return cleaned_strings\n",
    "\n",
    "\n",
    "def get_random_string(strings):\n",
    "    if not strings:\n",
    "        return None  # Return None if the list is empty\n",
    "    return random.choice(strings)\n",
    "\n"
   ]
  },
  {
   "cell_type": "code",
   "execution_count": 67,
   "id": "4e941d4c-ce57-480d-a758-bcea99e70b47",
   "metadata": {},
   "outputs": [
    {
     "name": "stdout",
     "output_type": "stream",
     "text": [
      "['1. Какие типы данных есть в python? На какие классы делятся?', '2. Что такое лямбда-функция? Какое у неё назначение?', '3. Что такое docstring?', '4. Как получить документацию по атрибутам объекта?', '5. В чём разница между типами list и tuple?']\n"
     ]
    }
   ],
   "source": [
    "# Python questions 1:\n",
    "python_qstns_1_link = 'https://habr.com/ru/articles/782266/' \n",
    "python_qstns_1 = parse_headers(python_qstns_1_link)\n",
    "print(python_qstns_1[:5])"
   ]
  },
  {
   "cell_type": "code",
   "execution_count": 68,
   "id": "fdf7dce4-bde3-4ba9-bf6c-c1dc8dcddc98",
   "metadata": {},
   "outputs": [
    {
     "data": {
      "text/plain": [
       "['Ближайшие события',\n",
       " 'Работа',\n",
       " 'Истории',\n",
       " 'Публикации',\n",
       " '100. Что такое аксессоры, мутаторы, @property?',\n",
       " '99. В чем разница между NumPy и SciPy?',\n",
       " '98. Назовите модули в Python, связанные с файлами',\n",
       " '97. Что такое функции высшего порядка?',\n",
       " '96. Как создать свой собственный пакет в Python?']"
      ]
     },
     "execution_count": 68,
     "metadata": {},
     "output_type": "execute_result"
    }
   ],
   "source": [
    "python_qstns_1[-1:-10:-1]"
   ]
  },
  {
   "cell_type": "code",
   "execution_count": 69,
   "id": "62d3bafb-80b8-4942-9659-5fdf42205ebe",
   "metadata": {},
   "outputs": [],
   "source": [
    "# уберём лишнее\n",
    "python_qstns_1 = python_qstns_1[:-4]"
   ]
  },
  {
   "cell_type": "code",
   "execution_count": 70,
   "id": "90b94061-d6e2-4b09-870f-568f71be14f6",
   "metadata": {},
   "outputs": [
    {
     "name": "stdout",
     "output_type": "stream",
     "text": [
      "['1. В чем разница между списком и кортежем?', '2. Как выполняется интерполяция строк?', '3. В чем разница между is и ==?', '4. Что такое декоратор?', '5. Объясните функцию range']\n"
     ]
    }
   ],
   "source": [
    "# Python questions 2:\n",
    "python_qstns_2_link = 'https://habr.com/ru/companies/vk/articles/506824/' \n",
    "python_qstns_2 = parse_headers(link)\n",
    "print(python_qstns_2[:5])"
   ]
  },
  {
   "cell_type": "code",
   "execution_count": 71,
   "id": "91484d3f-830f-4c93-bb67-53562e30fc77",
   "metadata": {},
   "outputs": [
    {
     "data": {
      "text/plain": [
       "['Публикации',\n",
       " '53. Как выполняется обработка исключений в Python?',\n",
       " '52. Приведите пример генератора словарей (dict comprehension)',\n",
       " '51. В чем разница между remove, del и pop?']"
      ]
     },
     "execution_count": 71,
     "metadata": {},
     "output_type": "execute_result"
    }
   ],
   "source": [
    "python_qstns_2[-1:-5:-1]"
   ]
  },
  {
   "cell_type": "code",
   "execution_count": 72,
   "id": "d033a7db-dcb9-4ffb-9ac0-375060e4f7a3",
   "metadata": {},
   "outputs": [],
   "source": [
    "# уберём лишнее\n",
    "python_qstns_2 = python_qstns_2[:-1]"
   ]
  },
  {
   "cell_type": "code",
   "execution_count": 73,
   "id": "6997b464-5baf-4a38-b8d9-1f40b1f7baaa",
   "metadata": {},
   "outputs": [
    {
     "name": "stdout",
     "output_type": "stream",
     "text": [
      "['Секция \"Статистика\"', 'Секция \"SQL\"', 'Секция \"Python\"', 'Секция \"Data Science\"', 'Секция \"Machine Learning\"']\n"
     ]
    }
   ],
   "source": [
    "# DS questions 1:\n",
    "ds_qstns_link = 'https://habr.com/ru/articles/783766/' \n",
    "ds_qstns = parse_headers(ds_qstns_link, header_level='h3')\n",
    "print(ds_qstns[:5])"
   ]
  },
  {
   "cell_type": "code",
   "execution_count": 74,
   "id": "612cf0aa-7d9d-40c6-af7c-80812197fe8c",
   "metadata": {},
   "outputs": [],
   "source": [
    "# уберём лишнее\n",
    "ds_qstns = ds_qstns[5:]"
   ]
  },
  {
   "cell_type": "code",
   "execution_count": 75,
   "id": "ba55a8db-3657-45f0-b053-971a619bd173",
   "metadata": {},
   "outputs": [],
   "source": [
    "# объединим вопросы \n",
    "qstns = python_qstns_1 + python_qstns_2 + ds_qstns"
   ]
  },
  {
   "cell_type": "code",
   "execution_count": 76,
   "id": "9a53aa35-9f6b-45cc-9721-27bcac93d937",
   "metadata": {},
   "outputs": [],
   "source": [
    "#очистим вопросы от нумерации\n",
    "qstns = remove_digits_from_start(qstns)"
   ]
  },
  {
   "cell_type": "code",
   "execution_count": 77,
   "id": "289082b3-c1e2-4a14-9216-24d7595018d3",
   "metadata": {},
   "outputs": [],
   "source": [
    "references = [\n",
    "    '\\n\\nИсточники',\n",
    "    'https://habr.com/ru/articles/782266/',\n",
    "    'https://habr.com/ru/companies/vk/articles/506824/',\n",
    "    'https://habr.com/ru/articles/783766/'\n",
    "]"
   ]
  },
  {
   "cell_type": "code",
   "execution_count": 78,
   "id": "ac51cbf0-b661-4e13-982e-f7d141aad85b",
   "metadata": {},
   "outputs": [],
   "source": [
    "with open ('ds_interview_questions.txt', 'w') as f:\n",
    "    f.writelines([line+'\\n' for line in qstns])\n",
    "\n",
    "# В конце укажем источники\n",
    "# with open ('ds_interview_questions.txt', 'a') as f:\n",
    "#     f.writelines([line+'\\n' for line in references])"
   ]
  },
  {
   "cell_type": "markdown",
   "id": "70c7b9d2-d8a5-4ea2-83df-a330c78b20f4",
   "metadata": {},
   "source": [
    "Ссылки для поиcка ответов:\n",
    "* https://habr.com/ru/articles/782266/\n",
    "* https://habr.com/ru/companies/vk/articles/506824/\n",
    "* https://habr.com/ru/articles/783766/"
   ]
  },
  {
   "cell_type": "markdown",
   "id": "f7053dd9-c243-4c48-8775-9959a16c168a",
   "metadata": {},
   "source": [
    "### Вопросы"
   ]
  },
  {
   "cell_type": "code",
   "execution_count": 79,
   "id": "a3a905bd-f1a3-45af-9dce-a0949f919317",
   "metadata": {},
   "outputs": [],
   "source": [
    "with open ('ds_interview_questions.txt', 'r') as f:\n",
    "    qstns = f.readlines()"
   ]
  },
  {
   "cell_type": "code",
   "execution_count": 87,
   "id": "b1e29fb0-e098-4357-95b7-46d782ab4d63",
   "metadata": {},
   "outputs": [
    {
     "name": "stdout",
     "output_type": "stream",
     "text": [
      "В чем разница между списками и массивами?\n"
     ]
    }
   ],
   "source": [
    "random_qstn = get_random_string(qstns)\n",
    "print(random_qstn.strip())"
   ]
  },
  {
   "cell_type": "markdown",
   "id": "f60194cb-af8c-4df6-abde-78ab79227182",
   "metadata": {},
   "source": [
    "## Алгоритмы"
   ]
  },
  {
   "cell_type": "markdown",
   "id": "13f15a13-a92f-4183-89b9-114d371d5a6f",
   "metadata": {},
   "source": [
    "https://yandex.ru/yaintern/algorithm-training#trainings-group"
   ]
  },
  {
   "cell_type": "code",
   "execution_count": null,
   "id": "1a4eb3be-bf33-4d8e-a41f-b93fc835add4",
   "metadata": {},
   "outputs": [],
   "source": []
  }
 ],
 "metadata": {
  "kernelspec": {
   "display_name": "Python 3 (ipykernel)",
   "language": "python",
   "name": "python3"
  },
  "language_info": {
   "codemirror_mode": {
    "name": "ipython",
    "version": 3
   },
   "file_extension": ".py",
   "mimetype": "text/x-python",
   "name": "python",
   "nbconvert_exporter": "python",
   "pygments_lexer": "ipython3",
   "version": "3.11.7"
  }
 },
 "nbformat": 4,
 "nbformat_minor": 5
}
