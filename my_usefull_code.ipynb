{
 "cells": [
  {
   "cell_type": "markdown",
   "metadata": {
    "toc": true
   },
   "source": [
    "<h1>Contents<span class=\"tocSkip\"></span></h1>\n",
    "<div class=\"toc\"><ul class=\"toc-item\"><li><span><a href=\"#Open-datasets\" data-toc-modified-id=\"Open-datasets-1\"><span class=\"toc-item-num\">1&nbsp;&nbsp;</span>Open datasets</a></span></li><li><span><a href=\"#Setting-a-matplotlib-style\" data-toc-modified-id=\"Setting-a-matplotlib-style-2\"><span class=\"toc-item-num\">2&nbsp;&nbsp;</span>Setting a matplotlib style</a></span></li><li><span><a href=\"#Loading-data-from-a-database\" data-toc-modified-id=\"Loading-data-from-a-database-3\"><span class=\"toc-item-num\">3&nbsp;&nbsp;</span>Loading data from a database</a></span></li><li><span><a href=\"#Label-from-a-column-to-column-names\" data-toc-modified-id=\"Label-from-a-column-to-column-names-4\"><span class=\"toc-item-num\">4&nbsp;&nbsp;</span>Label from a column to column names</a></span></li><li><span><a href=\"#Scatterplot-to-compare-true-and-predicted-values\" data-toc-modified-id=\"Scatterplot-to-compare-true-and-predicted-values-5\"><span class=\"toc-item-num\">5&nbsp;&nbsp;</span>Scatterplot to compare true and predicted values</a></span></li><li><span><a href=\"#Boxplot-to-compare-2-ranges\" data-toc-modified-id=\"Boxplot-to-compare-2-ranges-6\"><span class=\"toc-item-num\">6&nbsp;&nbsp;</span>Boxplot to compare 2 ranges</a></span></li><li><span><a href=\"#Histogram-with-appropriate-xticks\" data-toc-modified-id=\"Histogram-with-appropriate-xticks-7\"><span class=\"toc-item-num\">7&nbsp;&nbsp;</span>Histogram with appropriate xticks</a></span></li><li><span><a href=\"#Piecharts\" data-toc-modified-id=\"Piecharts-8\"><span class=\"toc-item-num\">8&nbsp;&nbsp;</span>Piecharts</a></span></li><li><span><a href=\"#Waffle-chart-function\" data-toc-modified-id=\"Waffle-chart-function-9\"><span class=\"toc-item-num\">9&nbsp;&nbsp;</span>Waffle chart function</a></span></li><li><span><a href=\"#Train-/-test-split\" data-toc-modified-id=\"Train-/-test-split-10\"><span class=\"toc-item-num\">10&nbsp;&nbsp;</span>Train / test split</a></span><ul class=\"toc-item\"><li><span><a href=\"#Split-without-sklearn\" data-toc-modified-id=\"Split-without-sklearn-10.1\"><span class=\"toc-item-num\">10.1&nbsp;&nbsp;</span>Split without sklearn</a></span></li></ul></li><li><span><a href=\"#False-positive-rate\" data-toc-modified-id=\"False-positive-rate-11\"><span class=\"toc-item-num\">11&nbsp;&nbsp;</span>False positive rate</a></span></li><li><span><a href=\"#Gradient-descent\" data-toc-modified-id=\"Gradient-descent-12\"><span class=\"toc-item-num\">12&nbsp;&nbsp;</span>Gradient descent</a></span></li><li><span><a href=\"#Make-interactions-for-linear-regression\" data-toc-modified-id=\"Make-interactions-for-linear-regression-13\"><span class=\"toc-item-num\">13&nbsp;&nbsp;</span>Make interactions for linear regression</a></span></li><li><span><a href=\"#Visualize-different-regularization-coefficients\" data-toc-modified-id=\"Visualize-different-regularization-coefficients-14\"><span class=\"toc-item-num\">14&nbsp;&nbsp;</span>Visualize different regularization coefficients</a></span></li><li><span><a href=\"#Saving-and-loading-models\" data-toc-modified-id=\"Saving-and-loading-models-15\"><span class=\"toc-item-num\">15&nbsp;&nbsp;</span>Saving and loading models</a></span></li><li><span><a href=\"#Regression-with-summary\" data-toc-modified-id=\"Regression-with-summary-16\"><span class=\"toc-item-num\">16&nbsp;&nbsp;</span>Regression with summary</a></span></li><li><span><a href=\"#Plotting-subplots-in-a-loop\" data-toc-modified-id=\"Plotting-subplots-in-a-loop-17\"><span class=\"toc-item-num\">17&nbsp;&nbsp;</span>Plotting subplots in a loop</a></span></li><li><span><a href=\"#Making-tables-without-html\" data-toc-modified-id=\"Making-tables-without-html-18\"><span class=\"toc-item-num\">18&nbsp;&nbsp;</span>Making tables without html</a></span></li></ul></div>"
   ]
  },
  {
   "cell_type": "markdown",
   "metadata": {},
   "source": [
    "# My code to reuse"
   ]
  },
  {
   "cell_type": "code",
   "execution_count": 4,
   "metadata": {},
   "outputs": [],
   "source": [
    "import cx_Oracle\n",
    "import pandas as pd\n",
    "import numpy as np\n",
    "import matplotlib.pyplot as plt\n",
    "from sklearn.metrics import r2_score"
   ]
  },
  {
   "cell_type": "markdown",
   "metadata": {},
   "source": [
    "## Open datasets\n",
    "* https://developer.ibm.com/exchanges/data/\n",
    "* https://www.kaggle.com/datasets"
   ]
  },
  {
   "cell_type": "markdown",
   "metadata": {},
   "source": [
    "## Setting a matplotlib style"
   ]
  },
  {
   "cell_type": "markdown",
   "metadata": {},
   "source": [
    "https://matplotlib.org/stable/gallery/style_sheets/style_sheets_reference.html"
   ]
  },
  {
   "cell_type": "code",
   "execution_count": 3,
   "metadata": {},
   "outputs": [],
   "source": [
    "plt.style.use('ggplot')"
   ]
  },
  {
   "cell_type": "markdown",
   "metadata": {},
   "source": [
    "## Loading data from a database"
   ]
  },
  {
   "cell_type": "code",
   "execution_count": 7,
   "metadata": {},
   "outputs": [],
   "source": [
    "sql_query = \"\"\"\n",
    "SELECT \n",
    "  p.*, \n",
    "  mp.* \n",
    "FROM \n",
    "  database.mech_properties mp, \n",
    "  database.piece_info p \n",
    "WHERE \n",
    "  mp.\"ID MES\" = p.\"ID MES\" -- ID MES is used to join data\n",
    "  AND p.\"date_of_production\" BETWEEN to_date('01.12.2021 00:00:00', 'DD.MM.YYYY HH24:mi:ss') \n",
    "  AND to_date('31.12.2021 23:59:59', 'DD.MM.YYYY HH24:mi:ss')\n",
    "\"\"\"         "
   ]
  },
  {
   "cell_type": "markdown",
   "metadata": {},
   "source": [
    "```python\n",
    "    # %%time\n",
    "\n",
    "    dsn_tns = cx_Oracle.makedsn('xxxxxx.com', '1521',\n",
    "                                service_name='yyyyyyyyyyyyy.com')\n",
    "    conn = cx_Oracle.connect(dsn=dsn_tns)\n",
    "    cursor = conn.cursor() \n",
    "    df = pd.DataFrame(cursor.execute(sql_query_all).fetchall())\n",
    "\n",
    "    # Making column names\n",
    "    table_columns = [column[0] for column in cursor.description]\n",
    "    df.columns = table_columns\n",
    "\n",
    "    conn.close()\n",
    "```"
   ]
  },
  {
   "cell_type": "markdown",
   "metadata": {},
   "source": [
    "## Label from a column to column names\n",
    "\n",
    "\n",
    "- https://pandas.pydata.org/pandas-docs/stable/reference/api/pandas.DataFrame.pivot_table.html\n",
    "- https://stackoverflow.com/questions/43788097/pandas-take-a-label-from-a-row-of-a-data-frame-and-convert-it-to-a-column-name"
   ]
  },
  {
   "cell_type": "markdown",
   "metadata": {},
   "source": [
    "```python\n",
    "    # aggfunc='first' / 'mean' / max\n",
    "    df_processed = df.pivot_table(values='Column_with_values',\n",
    "                                  index=selected_columns,\n",
    "                                  columns=['Column_with_labels'],\n",
    "                                  aggfunc='first',\n",
    "                                  fill_value=None,\n",
    "                                  dropna=True).reset_index()\n",
    "    df_processed\n",
    "```"
   ]
  },
  {
   "cell_type": "markdown",
   "metadata": {},
   "source": [
    "## Scatterplot to compare true and predicted values"
   ]
  },
  {
   "cell_type": "code",
   "execution_count": 6,
   "metadata": {},
   "outputs": [],
   "source": [
    "def true_vs_predicted_plot(y_true, y_predicted, title, true_label, predicted_label):\n",
    "    \"\"\"\n",
    "    Функция для построения графика сравнения расчитанного значения с фактическим.\n",
    "    x=y_predicted,\n",
    "    y=y_true\n",
    "    \"\"\"\n",
    "\n",
    "    min_val = min([min(y_true), min(y_predicted)])\n",
    "    max_val = max([max(y_true), max(y_predicted)])\n",
    "    range_val = max_val - min_val\n",
    "    r_2 = r2_score(y_true, y_predicted)\n",
    "\n",
    "    plt.figure(figsize=(6, 6))\n",
    "    plt.scatter(x=y_predicted,\n",
    "                y=y_true)\n",
    "    plt.plot([min_val, max_val], [min_val, max_val], linestyle=':')\n",
    "    plt.xlabel(predicted_label)\n",
    "    plt.ylabel(true_label)\n",
    "    plt.title(title)\n",
    "    plt.grid(linestyle=':')\n",
    "    plt.text(x=min_val + range_val * 0.25,\n",
    "             y=min_val + range_val * 0.75,\n",
    "             s=f'$R^2$ ={round(r_2, 2)}')\n",
    "    plt.show()"
   ]
  },
  {
   "cell_type": "code",
   "execution_count": 7,
   "metadata": {},
   "outputs": [
    {
     "data": {
      "image/png": "[encoded data removed]",
      "text/plain": [
       "<Figure size 432x432 with 1 Axes>"
      ]
     },
     "metadata": {
      "needs_background": "light"
     },
     "output_type": "display_data"
    }
   ],
   "source": [
    "# example\n",
    "x = np.arange(0, 100, 1)\n",
    "noise = np.random.randn(100)*10\n",
    "y_true = x*2 + 5 + noise\n",
    "y_predicted = x*2 + 5\n",
    "\n",
    "true_vs_predicted_plot(y_true=y_true, y_predicted=y_predicted,\n",
    "                       title='y_true-y_predicted',\n",
    "                       true_label='y_true',\n",
    "                       predicted_label='y_predicted')"
   ]
  },
  {
   "cell_type": "markdown",
   "metadata": {},
   "source": [
    "## Boxplot to compare 2 ranges"
   ]
  },
  {
   "cell_type": "code",
   "execution_count": 6,
   "metadata": {},
   "outputs": [],
   "source": [
    "def boxplot_for_comparison(parameter_1, parameter_2, labels, title):\n",
    "    \"\"\"\n",
    "    Функция для совместного изображения ящиков с усами\n",
    "    для содержаний каждого химческого элемента\n",
    "    - в выборке, использованной для построения модели \"ТИХ 2.0\";\n",
    "    - в выборке слябров с трещинами, причиннами которых может быть склонность стали к ТИХ.\n",
    "    \n",
    "    * parameter_1 - список значений величины 1;\n",
    "    * parameter_2 - список значений величины 2;\n",
    "    * labels - список названий для каждого ящика ['parameter_1', 'parameter_2'];\n",
    "    * title - Название графика.\n",
    "    \n",
    "    \"\"\"\n",
    "\n",
    "    plt.boxplot((parameter_1, parameter_2),\n",
    "                labels=labels)\n",
    "    plt.title(title)\n",
    "    plt.show()\n",
    "    "
   ]
  },
  {
   "cell_type": "code",
   "execution_count": 7,
   "metadata": {},
   "outputs": [
    {
     "data": {
      "image/png": "[encoded data removed]",
      "text/plain": [
       "<Figure size 432x288 with 1 Axes>"
      ]
     },
     "metadata": {},
     "output_type": "display_data"
    }
   ],
   "source": [
    "# Example\n",
    "boxplot_for_comparison(parameter_1=y_true,\n",
    "                       parameter_2=y_predicted,\n",
    "                       labels=['1', '2'],\n",
    "                       title='box')"
   ]
  },
  {
   "cell_type": "markdown",
   "metadata": {},
   "source": [
    "## Histogram with appropriate xticks"
   ]
  },
  {
   "cell_type": "code",
   "execution_count": 8,
   "metadata": {},
   "outputs": [],
   "source": [
    "x = np.random.randn(10000)"
   ]
  },
  {
   "cell_type": "code",
   "execution_count": 9,
   "metadata": {},
   "outputs": [
    {
     "data": {
      "image/png": "[encoded data removed]",
      "text/plain": [
       "<Figure size 576x360 with 1 Axes>"
      ]
     },
     "metadata": {},
     "output_type": "display_data"
    }
   ],
   "source": [
    "# 'bin_edges' is a list of bin intervals\n",
    "count, bin_edges = np.histogram(x)  # this will make nice bin intervals, that we will use later\n",
    "\n",
    "plt.figure(figsize=(8, 5))\n",
    "plt.hist(x)\n",
    "plt.title('title') # add a title to the histogram\n",
    "plt.ylabel('ylabel') # add y-label\n",
    "plt.xlabel('xlabel') # add x-label\n",
    "plt.xticks(bin_edges)\n",
    "\n",
    "plt.show()"
   ]
  },
  {
   "cell_type": "markdown",
   "metadata": {},
   "source": [
    "## Piecharts"
   ]
  },
  {
   "cell_type": "markdown",
   "metadata": {},
   "source": [
    "Download the Canadian Immigration dataset and read it into a pandas dataframe."
   ]
  },
  {
   "cell_type": "code",
   "execution_count": 13,
   "metadata": {},
   "outputs": [
    {
     "name": "stdout",
     "output_type": "stream",
     "text": [
      "Data read into a pandas dataframe!\n"
     ]
    }
   ],
   "source": [
    "df_can = pd.read_excel(\n",
    "    'https://cf-courses-data.s3.us.cloud-object-storage.appdomain.cloud/IBMDeveloperSkillsNetwork-DV0101EN-SkillsNetwork/Data%20Files/Canada.xlsx',\n",
    "    sheet_name='Canada by Citizenship',\n",
    "    skiprows=range(20),\n",
    "    skipfooter=2)\n",
    "\n",
    "print('Data read into a pandas dataframe!')"
   ]
  },
  {
   "cell_type": "code",
   "execution_count": 14,
   "metadata": {},
   "outputs": [
    {
     "name": "stdout",
     "output_type": "stream",
     "text": [
      "data dimensions: (195, 38)\n"
     ]
    }
   ],
   "source": [
    "# Clean up the dataset to remove columns that are not informative\n",
    "# for visualization (eg. Type, AREA, REG).\n",
    "df_can.drop(['AREA', 'REG', 'DEV', 'Type', 'Coverage'], axis=1, inplace=True)\n",
    "\n",
    "# renaming the columns so that they make sense\n",
    "df_can.rename(columns={'OdName':'Country', 'AreaName':'Continent','RegName':'Region'}, inplace=True)\n",
    "\n",
    "# for sake of consistency, will make all column labels of type string\n",
    "df_can.columns = list(map(str, df_can.columns))\n",
    "\n",
    "# set the country name as index - useful for quickly looking up countries using .loc method\n",
    "df_can.set_index('Country', inplace=True)\n",
    "\n",
    "# add total column\n",
    "df_can['Total'] = df_can.sum(axis=1)\n",
    "\n",
    "# years that we will be using - useful for plotting later on\n",
    "years = list(map(str, range(1980, 2014)))\n",
    "print('data dimensions:', df_can.shape)"
   ]
  },
  {
   "cell_type": "code",
   "execution_count": 18,
   "metadata": {},
   "outputs": [
    {
     "data": {
      "text/html": [
       "<div>\n",
       "<style scoped>\n",
       "    .dataframe tbody tr th:only-of-type {\n",
       "        vertical-align: middle;\n",
       "    }\n",
       "\n",
       "    .dataframe tbody tr th {\n",
       "        vertical-align: top;\n",
       "    }\n",
       "\n",
       "    .dataframe thead th {\n",
       "        text-align: right;\n",
       "    }\n",
       "</style>\n",
       "<table border=\"1\" class=\"dataframe\">\n",
       "  <thead>\n",
       "    <tr style=\"text-align: right;\">\n",
       "      <th></th>\n",
       "      <th>1980</th>\n",
       "      <th>1981</th>\n",
       "      <th>1982</th>\n",
       "      <th>1983</th>\n",
       "      <th>1984</th>\n",
       "      <th>1985</th>\n",
       "      <th>1986</th>\n",
       "      <th>1987</th>\n",
       "      <th>1988</th>\n",
       "      <th>1989</th>\n",
       "      <th>...</th>\n",
       "      <th>2005</th>\n",
       "      <th>2006</th>\n",
       "      <th>2007</th>\n",
       "      <th>2008</th>\n",
       "      <th>2009</th>\n",
       "      <th>2010</th>\n",
       "      <th>2011</th>\n",
       "      <th>2012</th>\n",
       "      <th>2013</th>\n",
       "      <th>Total</th>\n",
       "    </tr>\n",
       "    <tr>\n",
       "      <th>Continent</th>\n",
       "      <th></th>\n",
       "      <th></th>\n",
       "      <th></th>\n",
       "      <th></th>\n",
       "      <th></th>\n",
       "      <th></th>\n",
       "      <th></th>\n",
       "      <th></th>\n",
       "      <th></th>\n",
       "      <th></th>\n",
       "      <th></th>\n",
       "      <th></th>\n",
       "      <th></th>\n",
       "      <th></th>\n",
       "      <th></th>\n",
       "      <th></th>\n",
       "      <th></th>\n",
       "      <th></th>\n",
       "      <th></th>\n",
       "      <th></th>\n",
       "      <th></th>\n",
       "    </tr>\n",
       "  </thead>\n",
       "  <tbody>\n",
       "    <tr>\n",
       "      <th>Africa</th>\n",
       "      <td>3951</td>\n",
       "      <td>4363</td>\n",
       "      <td>3819</td>\n",
       "      <td>2671</td>\n",
       "      <td>2639</td>\n",
       "      <td>2650</td>\n",
       "      <td>3782</td>\n",
       "      <td>7494</td>\n",
       "      <td>7552</td>\n",
       "      <td>9894</td>\n",
       "      <td>...</td>\n",
       "      <td>27523</td>\n",
       "      <td>29188</td>\n",
       "      <td>28284</td>\n",
       "      <td>29890</td>\n",
       "      <td>34534</td>\n",
       "      <td>40892</td>\n",
       "      <td>35441</td>\n",
       "      <td>38083</td>\n",
       "      <td>38543</td>\n",
       "      <td>618948</td>\n",
       "    </tr>\n",
       "    <tr>\n",
       "      <th>Asia</th>\n",
       "      <td>31025</td>\n",
       "      <td>34314</td>\n",
       "      <td>30214</td>\n",
       "      <td>24696</td>\n",
       "      <td>27274</td>\n",
       "      <td>23850</td>\n",
       "      <td>28739</td>\n",
       "      <td>43203</td>\n",
       "      <td>47454</td>\n",
       "      <td>60256</td>\n",
       "      <td>...</td>\n",
       "      <td>159253</td>\n",
       "      <td>149054</td>\n",
       "      <td>133459</td>\n",
       "      <td>139894</td>\n",
       "      <td>141434</td>\n",
       "      <td>163845</td>\n",
       "      <td>146894</td>\n",
       "      <td>152218</td>\n",
       "      <td>155075</td>\n",
       "      <td>3317794</td>\n",
       "    </tr>\n",
       "    <tr>\n",
       "      <th>Europe</th>\n",
       "      <td>39760</td>\n",
       "      <td>44802</td>\n",
       "      <td>42720</td>\n",
       "      <td>24638</td>\n",
       "      <td>22287</td>\n",
       "      <td>20844</td>\n",
       "      <td>24370</td>\n",
       "      <td>46698</td>\n",
       "      <td>54726</td>\n",
       "      <td>60893</td>\n",
       "      <td>...</td>\n",
       "      <td>35955</td>\n",
       "      <td>33053</td>\n",
       "      <td>33495</td>\n",
       "      <td>34692</td>\n",
       "      <td>35078</td>\n",
       "      <td>33425</td>\n",
       "      <td>26778</td>\n",
       "      <td>29177</td>\n",
       "      <td>28691</td>\n",
       "      <td>1410947</td>\n",
       "    </tr>\n",
       "    <tr>\n",
       "      <th>Latin America and the Caribbean</th>\n",
       "      <td>13081</td>\n",
       "      <td>15215</td>\n",
       "      <td>16769</td>\n",
       "      <td>15427</td>\n",
       "      <td>13678</td>\n",
       "      <td>15171</td>\n",
       "      <td>21179</td>\n",
       "      <td>28471</td>\n",
       "      <td>21924</td>\n",
       "      <td>25060</td>\n",
       "      <td>...</td>\n",
       "      <td>24747</td>\n",
       "      <td>24676</td>\n",
       "      <td>26011</td>\n",
       "      <td>26547</td>\n",
       "      <td>26867</td>\n",
       "      <td>28818</td>\n",
       "      <td>27856</td>\n",
       "      <td>27173</td>\n",
       "      <td>24950</td>\n",
       "      <td>765148</td>\n",
       "    </tr>\n",
       "    <tr>\n",
       "      <th>Northern America</th>\n",
       "      <td>9378</td>\n",
       "      <td>10030</td>\n",
       "      <td>9074</td>\n",
       "      <td>7100</td>\n",
       "      <td>6661</td>\n",
       "      <td>6543</td>\n",
       "      <td>7074</td>\n",
       "      <td>7705</td>\n",
       "      <td>6469</td>\n",
       "      <td>6790</td>\n",
       "      <td>...</td>\n",
       "      <td>8394</td>\n",
       "      <td>9613</td>\n",
       "      <td>9463</td>\n",
       "      <td>10190</td>\n",
       "      <td>8995</td>\n",
       "      <td>8142</td>\n",
       "      <td>7677</td>\n",
       "      <td>7892</td>\n",
       "      <td>8503</td>\n",
       "      <td>241142</td>\n",
       "    </tr>\n",
       "  </tbody>\n",
       "</table>\n",
       "<p>5 rows × 35 columns</p>\n",
       "</div>"
      ],
      "text/plain": [
       "                                  1980   1981   1982   1983   1984   1985  \\\n",
       "Continent                                                                   \n",
       "Africa                            3951   4363   3819   2671   2639   2650   \n",
       "Asia                             31025  34314  30214  24696  27274  23850   \n",
       "Europe                           39760  44802  42720  24638  22287  20844   \n",
       "Latin America and the Caribbean  13081  15215  16769  15427  13678  15171   \n",
       "Northern America                  9378  10030   9074   7100   6661   6543   \n",
       "\n",
       "                                  1986   1987   1988   1989  ...    2005  \\\n",
       "Continent                                                    ...           \n",
       "Africa                            3782   7494   7552   9894  ...   27523   \n",
       "Asia                             28739  43203  47454  60256  ...  159253   \n",
       "Europe                           24370  46698  54726  60893  ...   35955   \n",
       "Latin America and the Caribbean  21179  28471  21924  25060  ...   24747   \n",
       "Northern America                  7074   7705   6469   6790  ...    8394   \n",
       "\n",
       "                                   2006    2007    2008    2009    2010  \\\n",
       "Continent                                                                 \n",
       "Africa                            29188   28284   29890   34534   40892   \n",
       "Asia                             149054  133459  139894  141434  163845   \n",
       "Europe                            33053   33495   34692   35078   33425   \n",
       "Latin America and the Caribbean   24676   26011   26547   26867   28818   \n",
       "Northern America                   9613    9463   10190    8995    8142   \n",
       "\n",
       "                                   2011    2012    2013    Total  \n",
       "Continent                                                         \n",
       "Africa                            35441   38083   38543   618948  \n",
       "Asia                             146894  152218  155075  3317794  \n",
       "Europe                            26778   29177   28691  1410947  \n",
       "Latin America and the Caribbean   27856   27173   24950   765148  \n",
       "Northern America                   7677    7892    8503   241142  \n",
       "\n",
       "[5 rows x 35 columns]"
      ]
     },
     "execution_count": 18,
     "metadata": {},
     "output_type": "execute_result"
    }
   ],
   "source": [
    "# group countries by continents and apply sum() function \n",
    "df_continents = df_can.groupby('Continent', axis=0).sum()\n",
    "df_continents.head()"
   ]
  },
  {
   "cell_type": "code",
   "execution_count": 16,
   "metadata": {},
   "outputs": [
    {
     "data": {
      "image/png": "[encoded data removed]",
      "text/plain": [
       "<Figure size 360x432 with 1 Axes>"
      ]
     },
     "metadata": {},
     "output_type": "display_data"
    }
   ],
   "source": [
    "# autopct create %, start angle represent starting point\n",
    "df_continents['Total'].plot(kind='pie',\n",
    "                            figsize=(5, 6),\n",
    "                            autopct='%1.1f%%', # add in percentages\n",
    "                            startangle=90,     # start angle 90° (Africa)\n",
    "                            shadow=True,       # add shadow      \n",
    "                            )\n",
    "\n",
    "plt.title('Immigration to Canada by Continent [1980 - 2013]')\n",
    "plt.axis('equal') # Sets the pie chart to look like a circle.\n",
    "\n",
    "plt.show()"
   ]
  },
  {
   "cell_type": "code",
   "execution_count": 17,
   "metadata": {},
   "outputs": [
    {
     "data": {
      "image/png": "[encoded data removed]",
      "text/plain": [
       "<Figure size 1080x432 with 1 Axes>"
      ]
     },
     "metadata": {},
     "output_type": "display_data"
    }
   ],
   "source": [
    "colors_list = ['gold', 'yellowgreen', 'lightcoral', 'lightskyblue', 'lightgreen', 'pink']\n",
    "explode_list = [0.1, 0, 0, 0, 0.1, 0.1] # ratio for each continent with which to offset each wedge.\n",
    "\n",
    "df_continents['Total'].plot(kind='pie',\n",
    "                            figsize=(15, 6),\n",
    "                            autopct='%1.1f%%', \n",
    "                            startangle=90,    \n",
    "                            shadow=True,       \n",
    "                            labels=None,         # turn off labels on pie chart\n",
    "                            pctdistance=1.12,    # the ratio between the center of each pie slice and the start of the text generated by autopct \n",
    "                            colors=colors_list,  # add custom colors\n",
    "                            explode=explode_list # 'explode' lowest 3 continents\n",
    "                            )\n",
    "\n",
    "# scale the title up by 12% to match pctdistance\n",
    "plt.title('Immigration to Canada by Continent [1980 - 2013]', y=1.12) \n",
    "\n",
    "plt.axis('equal') \n",
    "\n",
    "# add legend\n",
    "plt.legend(labels=df_continents.index, loc='upper left') \n",
    "\n",
    "plt.show()"
   ]
  },
  {
   "cell_type": "markdown",
   "metadata": {},
   "source": [
    "## Waffle chart function"
   ]
  },
  {
   "cell_type": "markdown",
   "metadata": {},
   "source": [
    "https://towardsdatascience.com/waffle-charts-using-pythons-matplotlib-94252689a701\n",
    "\n",
    "There is a library as well: https://pywaffle.readthedocs.io/en/latest/"
   ]
  },
  {
   "cell_type": "code",
   "execution_count": null,
   "metadata": {},
   "outputs": [],
   "source": [
    "def create_waffle_chart(categories, values, height, width, colormap, value_sign=''):\n",
    "    \n",
    "    \"\"\"\n",
    "    categories: Unique categories or classes in dataframe.\n",
    "    values: Values corresponding to categories or classes.\n",
    "    height: Defined height of waffle chart.\n",
    "    width: Defined width of waffle chart.\n",
    "    colormap: Colormap class\n",
    "    value_sign: In order to make our function more generalizable, we will add this parameter to address signs that could be associated with a value such as %, $, and so on. value_sign has a default value of empty string.\n",
    "    \n",
    "    \"\"\"\n",
    "\n",
    "    # compute the proportion of each category with respect to the total\n",
    "    total_values = sum(values)\n",
    "    category_proportions = [(float(value) / total_values) for value in values]\n",
    "\n",
    "    # compute the total number of tiles\n",
    "    total_num_tiles = width * height # total number of tiles\n",
    "    print ('Total number of tiles is', total_num_tiles)\n",
    "    \n",
    "    # compute the number of tiles for each catagory\n",
    "    tiles_per_category = [round(proportion * total_num_tiles) for proportion in category_proportions]\n",
    "\n",
    "    # print out number of tiles per category\n",
    "    for i, tiles in enumerate(tiles_per_category):\n",
    "        print (df_dsn.index.values[i] + ': ' + str(tiles))\n",
    "    \n",
    "    # initialize the waffle chart as an empty matrix\n",
    "    waffle_chart = np.zeros((height, width))\n",
    "\n",
    "    # define indices to loop through waffle chart\n",
    "    category_index = 0\n",
    "    tile_index = 0\n",
    "\n",
    "    # populate the waffle chart\n",
    "    for col in range(width):\n",
    "        for row in range(height):\n",
    "            tile_index += 1\n",
    "\n",
    "            # if the number of tiles populated for the current category \n",
    "            # is equal to its corresponding allocated tiles...\n",
    "            if tile_index > sum(tiles_per_category[0:category_index]):\n",
    "                # ...proceed to the next category\n",
    "                category_index += 1       \n",
    "            \n",
    "            # set the class value to an integer, which increases with class\n",
    "            waffle_chart[row, col] = category_index\n",
    "    \n",
    "    # instantiate a new figure object\n",
    "    fig = plt.figure()\n",
    "\n",
    "    # use matshow to display the waffle chart\n",
    "    colormap = plt.cm.coolwarm\n",
    "    plt.matshow(waffle_chart, cmap=colormap)\n",
    "    plt.colorbar()\n",
    "\n",
    "    # get the axis\n",
    "    ax = plt.gca()\n",
    "\n",
    "    # set minor ticks\n",
    "    ax.set_xticks(np.arange(-.5, (width), 1), minor=True)\n",
    "    ax.set_yticks(np.arange(-.5, (height), 1), minor=True)\n",
    "    \n",
    "    # add dridlines based on minor ticks\n",
    "    ax.grid(which='minor', color='w', linestyle='-', linewidth=2)\n",
    "\n",
    "    plt.xticks([])\n",
    "    plt.yticks([])\n",
    "\n",
    "    # compute cumulative sum of individual categories to match color schemes between chart and legend\n",
    "    values_cumsum = np.cumsum(values)\n",
    "    total_values = values_cumsum[len(values_cumsum) - 1]\n",
    "\n",
    "    # create legend\n",
    "    legend_handles = []\n",
    "    for i, category in enumerate(categories):\n",
    "        if value_sign == '%':\n",
    "            label_str = category + ' (' + str(values[i]) + value_sign + ')'\n",
    "        else:\n",
    "            label_str = category + ' (' + value_sign + str(values[i]) + ')'\n",
    "            \n",
    "        color_val = colormap(float(values_cumsum[i])/total_values)\n",
    "        legend_handles.append(mpatches.Patch(color=color_val, label=label_str))\n",
    "\n",
    "    # add legend to chart\n",
    "    plt.legend(\n",
    "        handles=legend_handles,\n",
    "        loc='lower center', \n",
    "        ncol=len(categories),\n",
    "        bbox_to_anchor=(0., -0.2, 0.95, .1)\n",
    "    )\n",
    "    plt.show()"
   ]
  },
  {
   "cell_type": "markdown",
   "metadata": {},
   "source": [
    "## Train / test split"
   ]
  },
  {
   "cell_type": "markdown",
   "metadata": {},
   "source": [
    "### Split without sklearn"
   ]
  },
  {
   "cell_type": "markdown",
   "metadata": {},
   "source": [
    "Let's split our dataset into train and test sets. 80% of the entire dataset will be used for training and 20% for testing. We create a mask to select random rows using np.random.rand() function:"
   ]
  },
  {
   "cell_type": "code",
   "execution_count": null,
   "metadata": {},
   "outputs": [],
   "source": [
    "msk = np.random.rand(len(df)) < 0.8\n",
    "train = df[msk]\n",
    "test = df[~msk]"
   ]
  },
  {
   "cell_type": "markdown",
   "metadata": {},
   "source": [
    "## False positive rate "
   ]
  },
  {
   "cell_type": "code",
   "execution_count": null,
   "metadata": {},
   "outputs": [],
   "source": [
    "def false_positive_rate(y_true, y_pred):\n",
    "    \"\"\"\n",
    "    Функция, которая расчитывает false posotive rate - долю ложноположтельных среди всех реально отрицательных:\n",
    "    FPR = FP / N  или FPR = FP / (FP + TN)\n",
    "    - tp (true positive) реально положительных прогнозов;\n",
    "    - tn (true negative) реально отрицательных прогнозов;\n",
    "    - fp (false positive) ложноположительных прогнозов;\n",
    "    - fn (false negative) ложноотрицательных прогнозов;\n",
    "    \"\"\"\n",
    "    tn, fp = 0, 0\n",
    "    for true, pred in zip(y_true, y_pred):\n",
    "        if (pred == 1) & (true != pred):\n",
    "                fp += 1\n",
    "        if (pred == 0) & (true == pred):\n",
    "                tn += 1\n",
    "    return fp / (fp + tn)"
   ]
  },
  {
   "cell_type": "code",
   "execution_count": null,
   "metadata": {},
   "outputs": [],
   "source": [
    "def tp_tn_fp_fn(y_true, y_pred):\n",
    "    \"\"\"\n",
    "    Функция, которая расчитывает количество \n",
    "    - tp (true positive) реально положительных прогнозов;\n",
    "    - tn (true negative) реально отрицательных прогнозов;\n",
    "    - fp (false positive) ложноположительных прогнозов;\n",
    "    - fn (false negative) ложноотрицательных прогнозов;\n",
    "    \"\"\"\n",
    "    tp, tn, fp, fn = 0, 0, 0, 0\n",
    "    for true, pred in zip(y_true, y_pred):\n",
    "        if pred == 1:\n",
    "            if true == pred:\n",
    "                tp += 1\n",
    "            else:\n",
    "                fp += 1\n",
    "        if pred == 0:\n",
    "            if true == pred:\n",
    "                tn += 1\n",
    "            else:\n",
    "                fn += 1       \n",
    "    return tp, tn, fp, fn\n",
    "        "
   ]
  },
  {
   "cell_type": "markdown",
   "metadata": {},
   "source": [
    "## Gradient descent"
   ]
  },
  {
   "cell_type": "code",
   "execution_count": null,
   "metadata": {},
   "outputs": [],
   "source": [
    "def gradient_descent(X, y, coeffs, learning_rate=1e-06, tolerance=1e-04, n_iter=500,\n",
    "                     verbose=False, return_mse_history=False):\n",
    "    \n",
    "    \"\"\"\n",
    "    * X - матрица значений признаков (n, k), где n - количество наблюдений, k - количство признаков\n",
    "    * y - значения предсказываемой переменной, вектор длиной n\n",
    "    * coeffs - первое приближение в коэффициентов линейной модели в виде вектора: (intercept, a1, ...ak)\n",
    "    * learning_rate - шаг градиентного спуска\n",
    "    * tolerance - допустимая ошибка\n",
    "    * n_iter - количество итераций\n",
    "\n",
    "    \"\"\"\n",
    "    \n",
    "    # Преобразование в np.array\n",
    "    coeffs = np.array(coeffs)\n",
    "\n",
    "    # Количество наблюдений\n",
    "    n = len(y)\n",
    "\n",
    "    # Добавление к матрице X столбца с единицами, чтобы возможно было вычислить intercept\n",
    "    X_with_ones = np.stack(((np.ones(n)), X))\n",
    "\n",
    "    # Массив для храненя значений среднеквадратичной ощибки на каждой итерации\n",
    "    mse_history = []\n",
    "\n",
    "    for iteration in range(n_iter):\n",
    "        # Вычисление вектора предсказанных значений\n",
    "        y_pred = np.dot(X_with_ones.T, coeffs)\n",
    "\n",
    "        # вычсиляем среднеквадратичную ошибку и записываем в массив \n",
    "        mse = mean_squared_error(y, y_pred)\n",
    "        mse_history.append(mse)\n",
    "\n",
    "        # Вычисление вектора градиента\n",
    "        gradient = np.dot(X_with_ones, 2/n*(y_pred - y))     \n",
    "\n",
    "        # Обновление коэффициентов с учетом градиента\n",
    "        step = learning_rate * gradient\n",
    "        coeffs = coeffs - step\n",
    "\n",
    "        # Если шаги движения по градиенту по всем измерениям малы, то остатанавливаем алгоритм\n",
    "        if np.all(np.abs(step) <= tolerance):\n",
    "            break      \n",
    "\n",
    "        # Если нужно выводить данные с каждого шага\n",
    "        if verbose == True:\n",
    "            print(iteration, gradient, mse, coeffs)\n",
    "    if return_mse_history == True:    \n",
    "        return coeffs, mse, mse_history\n",
    "    else:\n",
    "        return coeffs, mse\n"
   ]
  },
  {
   "cell_type": "code",
   "execution_count": null,
   "metadata": {},
   "outputs": [],
   "source": [
    "def gradient_descent_multiple_run(X, y, init_guess_range=500,\n",
    "                                  learning_rate=1e-06, tolerance=1e-04, n_iter=500,\n",
    "                                  n_attempts=1000):\n",
    "    \n",
    "    \"\"\"\n",
    "    Функция, которая ищет коэффициента линейной регрессии с помощью многократного\n",
    "    запуска градиентного спуска. Многократный запуск необходим для того чтобы \n",
    "    уменьшить влияние начальной точки.\n",
    "    \n",
    "    * X - матрица значений признаков (n, k), где n - количество наблюдений, k - количство признаков\n",
    "    * y - значения предсказываемой переменной, вектор длиной n\n",
    "    * init_guess_range - правая граница диапазона [0...init_guess_range],\n",
    "      из которого выбирать первое приближение для коэффициентов  \n",
    "    * learning_rate - множитель, определяющий шаг градиентного спуска\n",
    "    * tolerance - допустимая ошибка\n",
    "    * n_iter - максимальное количество итераций для одного запуска градиентного спуска \n",
    "    * n_attempts - количество запусков градиентного спуска\n",
    "\n",
    "    \"\"\"\n",
    "    # Количество наблюдений величины y\n",
    "    n = len(y)\n",
    "    \n",
    "    # Добавление к матрице X столбца с единицами, чтобы возможно было вычислить intercept\n",
    "    X_with_ones = np.stack(((np.ones(n)), X))\n",
    "    \n",
    "    # Массивы для записи результатов расчётов каждго запуска алгоритма\n",
    "    coeffs_all_attempts = []\n",
    "    mse_all_attempts = []\n",
    "\n",
    "    # Цикл по попыткам запуска алгоритма градиентного спуска\n",
    "    # Нужен для того, чтобы из всех найденных локальных минимумов MSE выбрать наименьший\n",
    "    for attempt in range(n_attempts):\n",
    "\n",
    "        # Задание первого приближения для коэффициентов\n",
    "        inintial_coeffs = (np.random.choice(range(init_guess_range)), np.random.choice(range(init_guess_range)))\n",
    "               \n",
    "        # Преобразование в np.array\n",
    "        coeffs = np.array(inintial_coeffs)      \n",
    "        \n",
    "        # Цикл по итерациям градиентного спуска внутри одного запуска алгоритма градиентного спуска\n",
    "        for iteration in range(n_iter):\n",
    "            # Вычисление вектора предсказанных значений y\n",
    "            y_pred = np.dot(X_with_ones.T, coeffs)\n",
    "\n",
    "            # вычсиляем среднеквадратичную ошибку и записываем в массив \n",
    "            mse = mean_squared_error(y, y_pred)\n",
    "            mse_history.append(mse)\n",
    "\n",
    "            # Вычисление вектора градиента\n",
    "            gradient = np.dot(X_with_ones, 2/n*(y_pred - y))     \n",
    "\n",
    "            # Обновление коэффициентов с учетом градиента\n",
    "            step = learning_rate * gradient\n",
    "            coeffs = coeffs - step\n",
    "\n",
    "            # Если шаги движения по градиенту по всем измерениям малы, то остатанавливаем алгоритм\n",
    "            if np.all(np.abs(step) <= tolerance):\n",
    "                break      \n",
    "     \n",
    "        coeffs_all_attempts.append(coeffs)\n",
    "        mse_all_attempts.append(mse)\n",
    "        \n",
    "        # Выбор наименьшего значения MSE из всех локальных минимумов\n",
    "        ind = mse_all_attempts.index(min(mse_all_attempts))\n",
    "        best_coeffs = coeffs_all_attempts[ind]\n",
    "        \n",
    "    return best_coeffs"
   ]
  },
  {
   "cell_type": "markdown",
   "metadata": {},
   "source": [
    "## Make interactions for linear regression"
   ]
  },
  {
   "cell_type": "code",
   "execution_count": null,
   "metadata": {},
   "outputs": [],
   "source": [
    "def make_df_with_interactions(df):\n",
    "    \"\"\"\n",
    "    Функция, которая создаёт новый датафрейм с эффектами взимодействия.\n",
    "    * df - датафрейм, который содержит только независимые параметры.\n",
    "    \"\"\"\n",
    "    # создаём новую таблицу с факторами\n",
    "    X = df.copy()\n",
    "    \n",
    "    # добавляем в таблицу с факторами столбцы с парными взаимодействиями\n",
    "    for i in range(len(df.columns)):\n",
    "        for j in range(len(df.columns)):\n",
    "            if j>i:\n",
    "                X[f'{df.columns[i]}*{df.columns[j]}'] = df[df.columns[i]] * df[df.columns[j]]                                \n",
    "                \n",
    "    return X"
   ]
  },
  {
   "cell_type": "code",
   "execution_count": null,
   "metadata": {},
   "outputs": [],
   "source": [
    "def make_df_with_interactions_no_corr(df, threshold):\n",
    "    \"\"\"\n",
    "    Функция, которая создаёт новый датафрейм с эффектами взимодействия.\n",
    "    При этом учитываются коррелляции создаваемых эффектов взаимодействия\n",
    "    с исходными параметрами: если коррелляция меньше заданного порога,\n",
    "    то новая переменная создаётся.\n",
    "    \n",
    "    * df - датафрейм, который содержит только независимые параметры.\n",
    "    * threshold - пороговое значение коэффициента корреляции\n",
    "    \"\"\"\n",
    "    # создаём новую таблицу с факторами\n",
    "    X = df.copy()\n",
    "    \n",
    "    # добавляем в таблицу с факторами столбцы с парными взаимодействиями\n",
    "    for i in range(len(df.columns)):\n",
    "        for j in range(len(df.columns)):\n",
    "            if j>i:\n",
    "                tmp_column = df[df.columns[i]] * df[df.columns[j]]                \n",
    "                condition_1 = abs(pearsonr(tmp_column, df[df.columns[i]])[0]) < threshold\n",
    "                condition_2 = abs(pearsonr(tmp_column, df[df.columns[j]])[0]) < threshold\n",
    "                if condition_1 & condition_2:\n",
    "                    X[f'{df.columns[i]}*{df.columns[j]}'] = tmp_column                    \n",
    "                \n",
    "    return X"
   ]
  },
  {
   "cell_type": "markdown",
   "metadata": {},
   "source": [
    "## Visualize different regularization coefficients"
   ]
  },
  {
   "cell_type": "code",
   "execution_count": 2,
   "metadata": {},
   "outputs": [],
   "source": [
    "# Попробуем различные значения степени регуляризации\n",
    "# alpha_range = [0.1, 1, 5, 10, 30, 50, 80, 100, 150, 200, 300, 500, 1000]\n",
    "alpha_range = [0, 0.1] + list(range(1, 400, 10))\n",
    "r2_scores = []  # сюда будем складывать значения R2\n",
    "for alpha in alpha_range:\n",
    "    reg = Lasso(alpha=alpha, fit_intercept=True)\n",
    "    reg.fit(X=X, y=y)\n",
    "    r2_tmp = r2_score(y_true=y, y_pred=reg.predict(X))\n",
    "    r2_scores.append(r2_tmp)\n",
    "    \n",
    "plt.scatter(x=alpha_range,\n",
    "            y=r2_scores)\n",
    "plt.title('Зависимость R2 от степени регуляризации')\n",
    "plt.xlabel('Степень регуляризации')\n",
    "plt.ylabel('R2')\n",
    "plt.grid(ls=':')\n",
    "plt.show()"
   ]
  },
  {
   "cell_type": "markdown",
   "metadata": {},
   "source": [
    "## Saving and loading models "
   ]
  },
  {
   "cell_type": "markdown",
   "metadata": {},
   "source": [
    "https://stackoverflow.com/questions/56107259/how-to-save-a-trained-model-by-scikit-learn"
   ]
  },
  {
   "cell_type": "code",
   "execution_count": 54,
   "metadata": {},
   "outputs": [],
   "source": [
    "from sklearn.linear_model import LinearRegression\n",
    "from sklearn.datasets import make_regression"
   ]
  },
  {
   "cell_type": "code",
   "execution_count": 55,
   "metadata": {},
   "outputs": [
    {
     "data": {
      "text/plain": [
       "array([24.40277289,  8.07889955])"
      ]
     },
     "execution_count": 55,
     "metadata": {},
     "output_type": "execute_result"
    }
   ],
   "source": [
    "# generating data\n",
    "X, y, coef = make_regression(n_samples=100, n_features=2, n_informative=2, noise=0.2, coef=True)\n",
    "coef"
   ]
  },
  {
   "cell_type": "code",
   "execution_count": 56,
   "metadata": {},
   "outputs": [
    {
     "data": {
      "text/plain": [
       "array([24.39804272,  8.0890401 ])"
      ]
     },
     "execution_count": 56,
     "metadata": {},
     "output_type": "execute_result"
    }
   ],
   "source": [
    "# training model\n",
    "reg = LinearRegression(fit_intercept=False)\n",
    "reg.fit(X=X, y=y)\n",
    "reg.coef_"
   ]
  },
  {
   "cell_type": "code",
   "execution_count": 57,
   "metadata": {},
   "outputs": [],
   "source": [
    "import pickle"
   ]
  },
  {
   "cell_type": "code",
   "execution_count": 58,
   "metadata": {},
   "outputs": [],
   "source": [
    "# Saving model\n",
    "with open('C:\\mx\\model.pkl','wb') as f:\n",
    "    pickle.dump(reg, f)\n",
    "\n",
    "# Loading model моделей\n",
    "\n",
    "with open('C:\\mx\\model.pkl', 'rb') as f:\n",
    "    reg_loaded = pickle.load(f)\n"
   ]
  },
  {
   "cell_type": "markdown",
   "metadata": {},
   "source": [
    "## Regression with summary"
   ]
  },
  {
   "cell_type": "code",
   "execution_count": null,
   "metadata": {},
   "outputs": [],
   "source": [
    "import statsmodels.api as sm"
   ]
  },
  {
   "cell_type": "code",
   "execution_count": null,
   "metadata": {},
   "outputs": [],
   "source": [
    "#define response variable\n",
    "y = df[y_column]\n",
    "\n",
    "#define predictor variables\n",
    "x = df[X_columns]\n",
    "\n",
    "#add constant to predictor variables\n",
    "x = sm.add_constant(x)\n",
    "\n",
    "#fit linear regression model\n",
    "model = sm.OLS(y, x).fit()\n",
    "\n",
    "#view model summary\n",
    "print(model.summary())"
   ]
  },
  {
   "cell_type": "markdown",
   "metadata": {},
   "source": [
    "## Plotting subplots in a loop"
   ]
  },
  {
   "cell_type": "code",
   "execution_count": null,
   "metadata": {},
   "outputs": [],
   "source": [
    "def make_scatterplots(df, x_columns, y_column):\n",
    "    \"\"\"\n",
    "    Функция для построения нескольких диаграмм рассеяния в виде сетки.\n",
    "    Каждая диаграмма рассеяния показывает свяь переменной y_column с переменными из списка x_columns.\n",
    "    Сетка имеет 3 столбца. Количество строк в сетке изменяется в зависимости от необходимого количества графиков. \n",
    "        \n",
    "    Входные параметры:\n",
    "    * df - таблица с данными;\n",
    "    * x_columns - список названий \"влияющих\" переменных;\n",
    "    * y_column - название \"зависимой\" переменной  \n",
    "        \n",
    "    \"\"\"\n",
    "    plt.figure(figsize=(15, 12))\n",
    "    plt.subplots_adjust(hspace=0.2)\n",
    "    plt.suptitle(f'Связь {y_column} с другими переменными', fontsize=18, y=0.95)\n",
    "\n",
    "    # количество столбцов в сетке для построения графиков\n",
    "    ncols = 3\n",
    "\n",
    "    # Расчёт количества строк в сетке\n",
    "    nrows = len(x_columns) // ncols + (len(x_columns) % ncols > 0)\n",
    "\n",
    "    # Цикл по названиям столбцов\n",
    "    for n, x_col in enumerate(x_columns):\n",
    "        # добавление очередного subplot\n",
    "        ax = plt.subplot(nrows, ncols, n + 1)\n",
    "\n",
    "        # построение диаграммы рассеяния\n",
    "        ax.scatter(df[x_col], df[y_column])\n",
    "\n",
    "        # подписи по осям\n",
    "        ax.set_ylabel(y_column)\n",
    "        ax.set_xlabel(x_col)"
   ]
  },
  {
   "cell_type": "markdown",
   "metadata": {},
   "source": [
    "## Making tables without html"
   ]
  },
  {
   "cell_type": "markdown",
   "metadata": {},
   "source": [
    "| Date (YYYY-MM-DD) | Version | Changed By | Change Description  |\n",
    "| ----------------- | ------- | ---------- | --------------------|\n",
    "| 2022-05-26        | 1.2     | Maks       | Updated this        |\n",
    "| 2022-05-15        | 1.1     | Maks       | Updated that        |\n",
    "| 2022-05-01        | 1.0     | Maks       | Updated this        |\n"
   ]
  },
  {
   "cell_type": "code",
   "execution_count": null,
   "metadata": {},
   "outputs": [],
   "source": []
  }
 ],
 "metadata": {
  "kernelspec": {
   "display_name": "Python 3 (ipykernel)",
   "language": "python",
   "name": "python3"
  },
  "language_info": {
   "codemirror_mode": {
    "name": "ipython",
    "version": 3
   },
   "file_extension": ".py",
   "mimetype": "text/x-python",
   "name": "python",
   "nbconvert_exporter": "python",
   "pygments_lexer": "ipython3",
   "version": "3.9.5"
  },
  "toc": {
   "base_numbering": 1,
   "nav_menu": {},
   "number_sections": true,
   "sideBar": true,
   "skip_h1_title": true,
   "title_cell": "Contents",
   "title_sidebar": "Contents",
   "toc_cell": true,
   "toc_position": {},
   "toc_section_display": true,
   "toc_window_display": true
  },
  "varInspector": {
   "cols": {
    "lenName": 16,
    "lenType": 16,
    "lenVar": 40
   },
   "kernels_config": {
    "python": {
     "delete_cmd_postfix": "",
     "delete_cmd_prefix": "del ",
     "library": "var_list.py",
     "varRefreshCmd": "print(var_dic_list())"
    },
    "r": {
     "delete_cmd_postfix": ") ",
     "delete_cmd_prefix": "rm(",
     "library": "var_list.r",
     "varRefreshCmd": "cat(var_dic_list()) "
    }
   },
   "types_to_exclude": [
    "module",
    "function",
    "builtin_function_or_method",
    "instance",
    "_Feature"
   ],
   "window_display": false
  }
 },
 "nbformat": 4,
 "nbformat_minor": 4
}
