{
 "cells": [
  {
   "cell_type": "markdown",
   "metadata": {
    "toc": true
   },
   "source": [
    "<h1>Содержание<span class=\"tocSkip\"></span></h1>\n",
    "<div class=\"toc\"><ul class=\"toc-item\"><li><span><a href=\"#Loading-data-from-a-database\" data-toc-modified-id=\"Loading-data-from-a-database-1\"><span class=\"toc-item-num\">1&nbsp;&nbsp;</span>Loading data from a database</a></span></li><li><span><a href=\"#Scatterplot-to-compare-true-and-predicted-values\" data-toc-modified-id=\"Scatterplot-to-compare-true-and-predicted-values-2\"><span class=\"toc-item-num\">2&nbsp;&nbsp;</span>Scatterplot to compare true and predicted values</a></span></li><li><span><a href=\"#Boxplot-to-compare-2-ranges\" data-toc-modified-id=\"Boxplot-to-compare-2-ranges-3\"><span class=\"toc-item-num\">3&nbsp;&nbsp;</span>Boxplot to compare 2 ranges</a></span></li><li><span><a href=\"#False-positive-rate\" data-toc-modified-id=\"False-positive-rate-4\"><span class=\"toc-item-num\">4&nbsp;&nbsp;</span>False positive rate</a></span></li><li><span><a href=\"#Gradient-descent\" data-toc-modified-id=\"Gradient-descent-5\"><span class=\"toc-item-num\">5&nbsp;&nbsp;</span>Gradient descent</a></span></li><li><span><a href=\"#Make-interactions-for-linear-regression\" data-toc-modified-id=\"Make-interactions-for-linear-regression-6\"><span class=\"toc-item-num\">6&nbsp;&nbsp;</span>Make interactions for linear regression</a></span></li><li><span><a href=\"#Visualize-different-regilarization-coefficients\" data-toc-modified-id=\"Visualize-different-regilarization-coefficients-7\"><span class=\"toc-item-num\">7&nbsp;&nbsp;</span>Visualize different regilarization coefficients</a></span></li><li><span><a href=\"#Get-coefficients-of-Linear-Regression\" data-toc-modified-id=\"Get-coefficients-of-Linear-Regression-8\"><span class=\"toc-item-num\">8&nbsp;&nbsp;</span>Get coefficients of Linear Regression</a></span></li></ul></div>"
   ]
  },
  {
   "cell_type": "markdown",
   "metadata": {},
   "source": [
    "# My code to reuse"
   ]
  },
  {
   "cell_type": "code",
   "execution_count": 1,
   "metadata": {},
   "outputs": [],
   "source": [
    "import cx_Oracle\n",
    "import pandas as pd\n",
    "import numpy as np\n",
    "import matplotlib.pyplot as plt\n",
    "from sklearn.metrics import r2_score"
   ]
  },
  {
   "cell_type": "markdown",
   "metadata": {},
   "source": [
    "## Loading data from a database"
   ]
  },
  {
   "cell_type": "code",
   "execution_count": 2,
   "metadata": {},
   "outputs": [],
   "source": [
    "sql_query = \"\"\"\n",
    "select \n",
    "    p.*,\n",
    "    mp.*\n",
    "from \n",
    "    database.mech_properties mp,\n",
    "    database.piece_info p\n",
    "where \n",
    "    mp.\"ID MES\" = p.\"ID MES\" -- ID MES is used to join data\n",
    "    and p.\"date_of_production\" between to_date('01.12.2021 00:00:00', 'DD.MM.YYYY HH24:mi:ss')\n",
    "                                       and to_date('31.12.2021 23:59:59', 'DD.MM.YYYY HH24:mi:ss')\n",
    "\"\"\"         "
   ]
  },
  {
   "cell_type": "code",
   "execution_count": 3,
   "metadata": {},
   "outputs": [
    {
     "ename": "DatabaseError",
     "evalue": "ORA-12170: TNS:Connect timeout occurred",
     "output_type": "error",
     "traceback": [
      "\u001b[1;31m---------------------------------------------------------------------------\u001b[0m",
      "\u001b[1;31mDatabaseError\u001b[0m                             Traceback (most recent call last)",
      "\u001b[1;32m<timed exec>\u001b[0m in \u001b[0;36m<module>\u001b[1;34m\u001b[0m\n",
      "\u001b[1;31mDatabaseError\u001b[0m: ORA-12170: TNS:Connect timeout occurred"
     ]
    }
   ],
   "source": [
    "%%time\n",
    "\n",
    "dsn_tns = cx_Oracle.makedsn('xxxxxx.com', '1521',\n",
    "                            service_name='yyyyyyyyyyyyy.com')\n",
    "conn = cx_Oracle.connect(dsn=dsn_tns)\n",
    "cursor = conn.cursor() \n",
    "df = pd.DataFrame(cursor.execute(sql_query_all).fetchall())\n",
    "\n",
    "# Making column names\n",
    "table_columns = [column[0] for column in cursor.description]\n",
    "df.columns = table_columns\n",
    "\n",
    "conn.close()"
   ]
  },
  {
   "cell_type": "markdown",
   "metadata": {},
   "source": [
    "## Scatterplot to compare true and predicted values"
   ]
  },
  {
   "cell_type": "code",
   "execution_count": 4,
   "metadata": {},
   "outputs": [],
   "source": [
    "def true_vs_predicted_plot(y_true, y_predicted, title, true_label, predicted_label):\n",
    "    \"\"\"\n",
    "    Функция для построения графика сравнения расчитанного значения с фактическим.\n",
    "    x=y_predicted,\n",
    "    y=y_true\n",
    "    \"\"\"\n",
    "\n",
    "    min_val = min([min(y_true), min(y_predicted)])\n",
    "    max_val = max([max(y_true), max(y_predicted)])\n",
    "    range_val = max_val - min_val\n",
    "    r_2 = r2_score(y_true, y_predicted)\n",
    "\n",
    "    plt.figure(figsize=(6, 6))\n",
    "    plt.scatter(x=y_predicted,\n",
    "                y=y_true)\n",
    "    plt.plot([min_val, max_val], [min_val, max_val], linestyle=':')\n",
    "    plt.xlabel(predicted_label)\n",
    "    plt.ylabel(true_label)\n",
    "    plt.title(title)\n",
    "    plt.grid(linestyle=':')\n",
    "    plt.text(x=min_val + range_val * 0.25,\n",
    "             y=min_val + range_val * 0.75,\n",
    "             s=f'$R^2$ ={round(r_2, 2)}')\n",
    "    plt.show()"
   ]
  },
  {
   "cell_type": "code",
   "execution_count": 5,
   "metadata": {},
   "outputs": [
    {
     "data": {
      "image/png": "[encoded data removed]",
      "text/plain": [
       "<Figure size 432x432 with 1 Axes>"
      ]
     },
     "metadata": {
      "needs_background": "light"
     },
     "output_type": "display_data"
    }
   ],
   "source": [
    "# example\n",
    "x = np.arange(0, 100, 1)\n",
    "noise = np.random.randn(100)*10\n",
    "y_true = x*2 + 5 + noise\n",
    "y_predicted = x*2 + 5\n",
    "\n",
    "true_vs_predicted_plot(y_true=y_true, y_predicted=y_predicted,\n",
    "                       title='y_true-y_predicted',\n",
    "                       true_label='y_true',\n",
    "                       predicted_label='y_predicted')"
   ]
  },
  {
   "cell_type": "markdown",
   "metadata": {},
   "source": [
    "## Boxplot to compare 2 ranges"
   ]
  },
  {
   "cell_type": "code",
   "execution_count": 6,
   "metadata": {},
   "outputs": [],
   "source": [
    "def boxplot_for_comparison(parameter_1, parameter_2, labels, title):\n",
    "    \"\"\"\n",
    "    Функция для совместного изображения ящиков с усами\n",
    "    для содержаний каждого химческого элемента\n",
    "    - в выборке, использованной для построения модели \"ТИХ 2.0\";\n",
    "    - в выборке слябров с трещинами, причиннами которых может быть склонность стали к ТИХ.\n",
    "    \n",
    "    * parameter_1 - список значений величины 1;\n",
    "    * parameter_2 - список значений величины 2;\n",
    "    * labels - список названий для каждого ящика ['parameter_1', 'parameter_2'];\n",
    "    * title - Название графика.\n",
    "    \n",
    "    \"\"\"\n",
    "\n",
    "    plt.boxplot((parameter_1, parameter_2),\n",
    "                labels=labels)\n",
    "    plt.title(title)\n",
    "    plt.show()\n",
    "    "
   ]
  },
  {
   "cell_type": "code",
   "execution_count": 7,
   "metadata": {},
   "outputs": [
    {
     "data": {
      "image/png": "[encoded data removed]",
      "text/plain": [
       "<Figure size 432x288 with 1 Axes>"
      ]
     },
     "metadata": {
      "needs_background": "light"
     },
     "output_type": "display_data"
    }
   ],
   "source": [
    "# Example\n",
    "boxplot_for_comparison(parameter_1=y_true,\n",
    "                       parameter_2=y_predicted,\n",
    "                       labels=['1', '2'],\n",
    "                       title='box')"
   ]
  },
  {
   "cell_type": "markdown",
   "metadata": {},
   "source": [
    "## False positive rate "
   ]
  },
  {
   "cell_type": "code",
   "execution_count": null,
   "metadata": {},
   "outputs": [],
   "source": [
    "def false_positive_rate(y_true, y_pred):\n",
    "    \"\"\"\n",
    "    Функция, которая расчитывает false posotive rate - долю ложноположтельных среди всех реально отрицательных:\n",
    "    FPR = FP / N  или FPR = FP / (FP + TN)\n",
    "    - tp (true positive) реально положительных прогнозов;\n",
    "    - tn (true negative) реально отрицательных прогнозов;\n",
    "    - fp (false positive) ложноположительных прогнозов;\n",
    "    - fn (false negative) ложноотрицательных прогнозов;\n",
    "    \"\"\"\n",
    "    tn, fp = 0, 0\n",
    "    for true, pred in zip(y_true, y_pred):\n",
    "        if (pred == 1) & (true != pred):\n",
    "                fp += 1\n",
    "        if (pred == 0) & (true == pred):\n",
    "                tn += 1\n",
    "    return fp / (fp + tn)"
   ]
  },
  {
   "cell_type": "code",
   "execution_count": null,
   "metadata": {},
   "outputs": [],
   "source": [
    "def tp_tn_fp_fn(y_true, y_pred):\n",
    "    \"\"\"\n",
    "    Функция, которая расчитывает количество \n",
    "    - tp (true positive) реально положительных прогнозов;\n",
    "    - tn (true negative) реально отрицательных прогнозов;\n",
    "    - fp (false positive) ложноположительных прогнозов;\n",
    "    - fn (false negative) ложноотрицательных прогнозов;\n",
    "    \"\"\"\n",
    "    tp, tn, fp, fn = 0, 0, 0, 0\n",
    "    for true, pred in zip(y_true, y_pred):\n",
    "        if pred == 1:\n",
    "            if true == pred:\n",
    "                tp += 1\n",
    "            else:\n",
    "                fp += 1\n",
    "        if pred == 0:\n",
    "            if true == pred:\n",
    "                tn += 1\n",
    "            else:\n",
    "                fn += 1       \n",
    "    return tp, tn, fp, fn\n",
    "        "
   ]
  },
  {
   "cell_type": "markdown",
   "metadata": {},
   "source": [
    "## Gradient descent"
   ]
  },
  {
   "cell_type": "code",
   "execution_count": null,
   "metadata": {},
   "outputs": [],
   "source": [
    "def gradient_descent(X, y, coeffs, learning_rate=1e-06, tolerance=1e-04, n_iter=500,\n",
    "                     verbose=False, return_mse_history=False):\n",
    "    \n",
    "    \"\"\"\n",
    "    * X - матрица значений признаков (n, k), где n - количество наблюдений, k - количство признаков\n",
    "    * y - значения предсказываемой переменной, вектор длиной n\n",
    "    * coeffs - первое приближение в коэффициентов линейной модели в виде вектора: (intercept, a1, ...ak)\n",
    "    * learning_rate - шаг градиентного спуска\n",
    "    * tolerance - допустимая ошибка\n",
    "    * n_iter - количество итераций\n",
    "\n",
    "    \"\"\"\n",
    "    \n",
    "    # Преобразование в np.array\n",
    "    coeffs = np.array(coeffs)\n",
    "\n",
    "    # Количество наблюдений\n",
    "    n = len(y)\n",
    "\n",
    "    # Добавление к матрице X столбца с единицами, чтобы возможно было вычислить intercept\n",
    "    X_with_ones = np.stack(((np.ones(n)), X))\n",
    "\n",
    "    # Массив для храненя значений среднеквадратичной ощибки на каждой итерации\n",
    "    mse_history = []\n",
    "\n",
    "    for iteration in range(n_iter):\n",
    "        # Вычисление вектора предсказанных значений\n",
    "        y_pred = np.dot(X_with_ones.T, coeffs)\n",
    "\n",
    "        # вычсиляем среднеквадратичную ошибку и записываем в массив \n",
    "        mse = mean_squared_error(y, y_pred)\n",
    "        mse_history.append(mse)\n",
    "\n",
    "        # Вычисление вектора градиента\n",
    "        gradient = np.dot(X_with_ones, 2/n*(y_pred - y))     \n",
    "\n",
    "        # Обновление коэффициентов с учетом градиента\n",
    "        step = learning_rate * gradient\n",
    "        coeffs = coeffs - step\n",
    "\n",
    "        # Если шаги движения по градиенту по всем измерениям малы, то остатанавливаем алгоритм\n",
    "        if np.all(np.abs(step) <= tolerance):\n",
    "            break      \n",
    "\n",
    "        # Если нужно выводить данные с каждого шага\n",
    "        if verbose == True:\n",
    "            print(iteration, gradient, mse, coeffs)\n",
    "    if return_mse_history == True:    \n",
    "        return coeffs, mse, mse_history\n",
    "    else:\n",
    "        return coeffs, mse\n"
   ]
  },
  {
   "cell_type": "code",
   "execution_count": null,
   "metadata": {},
   "outputs": [],
   "source": [
    "def gradient_descent_multiple_run(X, y, init_guess_range=500,\n",
    "                                  learning_rate=1e-06, tolerance=1e-04, n_iter=500,\n",
    "                                  n_attempts=1000):\n",
    "    \n",
    "    \"\"\"\n",
    "    Функция, которая ищет коэффициента линейной регрессии с помощью многократного\n",
    "    запуска градиентного спуска. Многократный запуск необходим для того чтобы \n",
    "    уменьшить влияние начальной точки.\n",
    "    \n",
    "    * X - матрица значений признаков (n, k), где n - количество наблюдений, k - количство признаков\n",
    "    * y - значения предсказываемой переменной, вектор длиной n\n",
    "    * init_guess_range - правая граница диапазона [0...init_guess_range],\n",
    "      из которого выбирать первое приближение для коэффициентов  \n",
    "    * learning_rate - множитель, определяющий шаг градиентного спуска\n",
    "    * tolerance - допустимая ошибка\n",
    "    * n_iter - максимальное количество итераций для одного запуска градиентного спуска \n",
    "    * n_attempts - количество запусков градиентного спуска\n",
    "\n",
    "    \"\"\"\n",
    "    # Количество наблюдений величины y\n",
    "    n = len(y)\n",
    "    \n",
    "    # Добавление к матрице X столбца с единицами, чтобы возможно было вычислить intercept\n",
    "    X_with_ones = np.stack(((np.ones(n)), X))\n",
    "    \n",
    "    # Массивы для записи результатов расчётов каждго запуска алгоритма\n",
    "    coeffs_all_attempts = []\n",
    "    mse_all_attempts = []\n",
    "\n",
    "    # Цикл по попыткам запуска алгоритма градиентного спуска\n",
    "    # Нужен для того, чтобы из всех найденных локальных минимумов MSE выбрать наименьший\n",
    "    for attempt in range(n_attempts):\n",
    "\n",
    "        # Задание первого приближения для коэффициентов\n",
    "        inintial_coeffs = (np.random.choice(range(init_guess_range)), np.random.choice(range(init_guess_range)))\n",
    "               \n",
    "        # Преобразование в np.array\n",
    "        coeffs = np.array(inintial_coeffs)      \n",
    "        \n",
    "        # Цикл по итерациям градиентного спуска внутри одного запуска алгоритма градиентного спуска\n",
    "        for iteration in range(n_iter):\n",
    "            # Вычисление вектора предсказанных значений y\n",
    "            y_pred = np.dot(X_with_ones.T, coeffs)\n",
    "\n",
    "            # вычсиляем среднеквадратичную ошибку и записываем в массив \n",
    "            mse = mean_squared_error(y, y_pred)\n",
    "            mse_history.append(mse)\n",
    "\n",
    "            # Вычисление вектора градиента\n",
    "            gradient = np.dot(X_with_ones, 2/n*(y_pred - y))     \n",
    "\n",
    "            # Обновление коэффициентов с учетом градиента\n",
    "            step = learning_rate * gradient\n",
    "            coeffs = coeffs - step\n",
    "\n",
    "            # Если шаги движения по градиенту по всем измерениям малы, то остатанавливаем алгоритм\n",
    "            if np.all(np.abs(step) <= tolerance):\n",
    "                break      \n",
    "     \n",
    "        coeffs_all_attempts.append(coeffs)\n",
    "        mse_all_attempts.append(mse)\n",
    "        \n",
    "        # Выбор наименьшего значения MSE из всех локальных минимумов\n",
    "        ind = mse_all_attempts.index(min(mse_all_attempts))\n",
    "        best_coeffs = coeffs_all_attempts[ind]\n",
    "        \n",
    "    return best_coeffs"
   ]
  },
  {
   "cell_type": "markdown",
   "metadata": {},
   "source": [
    "## Make interactions for linear regression"
   ]
  },
  {
   "cell_type": "code",
   "execution_count": null,
   "metadata": {},
   "outputs": [],
   "source": [
    "def make_df_with_interactions(df):\n",
    "    \"\"\"\n",
    "    Функция, которая создаёт новый датафрейм с эффектами взимодействия.\n",
    "    * df - датафрейм, который содержит только независимые параметры.\n",
    "    \"\"\"\n",
    "    # создаём новую таблицу с факторами\n",
    "    X = df.copy()\n",
    "    \n",
    "    # добавляем в таблицу с факторами столбцы с парными взаимодействиями\n",
    "    for i in range(len(df.columns)):\n",
    "        for j in range(len(df.columns)):\n",
    "            if j>i:\n",
    "                X[f'{df.columns[i]}*{df.columns[j]}'] = df[df.columns[i]] * df[df.columns[j]]                                \n",
    "                \n",
    "    return X"
   ]
  },
  {
   "cell_type": "code",
   "execution_count": null,
   "metadata": {},
   "outputs": [],
   "source": [
    "def make_df_with_interactions_no_corr(df, threshold):\n",
    "    \"\"\"\n",
    "    Функция, которая создаёт новый датафрейм с эффектами взимодействия.\n",
    "    При этом учитываются коррелляции создаваемых эффектов взаимодействия\n",
    "    с исходными параметрами: если коррелляция меньше заданного порога,\n",
    "    то новая переменная создаётся.\n",
    "    \n",
    "    * df - датафрейм, который содержит только независимые параметры.\n",
    "    * threshold - пороговое значение коэффициента корреляции\n",
    "    \"\"\"\n",
    "    # создаём новую таблицу с факторами\n",
    "    X = df.copy()\n",
    "    \n",
    "    # добавляем в таблицу с факторами столбцы с парными взаимодействиями\n",
    "    for i in range(len(df.columns)):\n",
    "        for j in range(len(df.columns)):\n",
    "            if j>i:\n",
    "                tmp_column = df[df.columns[i]] * df[df.columns[j]]                \n",
    "                condition_1 = abs(pearsonr(tmp_column, df[df.columns[i]])[0]) < threshold\n",
    "                condition_2 = abs(pearsonr(tmp_column, df[df.columns[j]])[0]) < threshold\n",
    "                if condition_1 & condition_2:\n",
    "                    X[f'{df.columns[i]}*{df.columns[j]}'] = tmp_column                    \n",
    "                \n",
    "    return X"
   ]
  },
  {
   "cell_type": "markdown",
   "metadata": {},
   "source": [
    "## Visualize different regilarization coefficients"
   ]
  },
  {
   "cell_type": "code",
   "execution_count": 8,
   "metadata": {},
   "outputs": [
    {
     "ename": "NameError",
     "evalue": "name 'Lasso' is not defined",
     "output_type": "error",
     "traceback": [
      "\u001b[1;31m---------------------------------------------------------------------------\u001b[0m",
      "\u001b[1;31mNameError\u001b[0m                                 Traceback (most recent call last)",
      "\u001b[1;32m<ipython-input-8-f885967bf2e4>\u001b[0m in \u001b[0;36m<module>\u001b[1;34m\u001b[0m\n\u001b[0;32m      4\u001b[0m \u001b[0mr2_scores\u001b[0m \u001b[1;33m=\u001b[0m \u001b[1;33m[\u001b[0m\u001b[1;33m]\u001b[0m  \u001b[1;31m# сюда будем складывать значения R2\u001b[0m\u001b[1;33m\u001b[0m\u001b[1;33m\u001b[0m\u001b[0m\n\u001b[0;32m      5\u001b[0m \u001b[1;32mfor\u001b[0m \u001b[0malpha\u001b[0m \u001b[1;32min\u001b[0m \u001b[0malpha_range\u001b[0m\u001b[1;33m:\u001b[0m\u001b[1;33m\u001b[0m\u001b[1;33m\u001b[0m\u001b[0m\n\u001b[1;32m----> 6\u001b[1;33m     \u001b[0mreg\u001b[0m \u001b[1;33m=\u001b[0m \u001b[0mLasso\u001b[0m\u001b[1;33m(\u001b[0m\u001b[0malpha\u001b[0m\u001b[1;33m=\u001b[0m\u001b[0malpha\u001b[0m\u001b[1;33m,\u001b[0m \u001b[0mfit_intercept\u001b[0m\u001b[1;33m=\u001b[0m\u001b[1;32mTrue\u001b[0m\u001b[1;33m)\u001b[0m\u001b[1;33m\u001b[0m\u001b[1;33m\u001b[0m\u001b[0m\n\u001b[0m\u001b[0;32m      7\u001b[0m     \u001b[0mreg\u001b[0m\u001b[1;33m.\u001b[0m\u001b[0mfit\u001b[0m\u001b[1;33m(\u001b[0m\u001b[0mX\u001b[0m\u001b[1;33m=\u001b[0m\u001b[0mX\u001b[0m\u001b[1;33m,\u001b[0m \u001b[0my\u001b[0m\u001b[1;33m=\u001b[0m\u001b[0my\u001b[0m\u001b[1;33m)\u001b[0m\u001b[1;33m\u001b[0m\u001b[1;33m\u001b[0m\u001b[0m\n\u001b[0;32m      8\u001b[0m     \u001b[0mr2_tmp\u001b[0m \u001b[1;33m=\u001b[0m \u001b[0mr2_score\u001b[0m\u001b[1;33m(\u001b[0m\u001b[0my_true\u001b[0m\u001b[1;33m=\u001b[0m\u001b[0my\u001b[0m\u001b[1;33m,\u001b[0m \u001b[0my_pred\u001b[0m\u001b[1;33m=\u001b[0m\u001b[0mreg\u001b[0m\u001b[1;33m.\u001b[0m\u001b[0mpredict\u001b[0m\u001b[1;33m(\u001b[0m\u001b[0mX\u001b[0m\u001b[1;33m)\u001b[0m\u001b[1;33m)\u001b[0m\u001b[1;33m\u001b[0m\u001b[1;33m\u001b[0m\u001b[0m\n",
      "\u001b[1;31mNameError\u001b[0m: name 'Lasso' is not defined"
     ]
    }
   ],
   "source": [
    "# Попробуем различные значения степени регуляризации\n",
    "# alpha_range = [0.1, 1, 5, 10, 30, 50, 80, 100, 150, 200, 300, 500, 1000]\n",
    "alpha_range = [0, 0.1] + list(range(1, 400, 10))\n",
    "r2_scores = []  # сюда будем складывать значения R2\n",
    "for alpha in alpha_range:\n",
    "    reg = Lasso(alpha=alpha, fit_intercept=True)\n",
    "    reg.fit(X=X, y=y)\n",
    "    r2_tmp = r2_score(y_true=y, y_pred=reg.predict(X))\n",
    "    r2_scores.append(r2_tmp)\n",
    "    \n",
    "plt.scatter(x=alpha_range,\n",
    "            y=r2_scores)\n",
    "plt.title('Зависимость R2 от степени регуляризации')\n",
    "plt.xlabel('Степень регуляризации')\n",
    "plt.ylabel('R2')\n",
    "plt.grid(ls=':')\n",
    "plt.show()"
   ]
  },
  {
   "cell_type": "code",
   "execution_count": null,
   "metadata": {},
   "outputs": [],
   "source": []
  }
 ],
 "metadata": {
  "kernelspec": {
   "display_name": "Python 3",
   "language": "python",
   "name": "python3"
  },
  "language_info": {
   "codemirror_mode": {
    "name": "ipython",
    "version": 3
   },
   "file_extension": ".py",
   "mimetype": "text/x-python",
   "name": "python",
   "nbconvert_exporter": "python",
   "pygments_lexer": "ipython3",
   "version": "3.8.3"
  },
  "toc": {
   "base_numbering": 1,
   "nav_menu": {},
   "number_sections": true,
   "sideBar": true,
   "skip_h1_title": true,
   "title_cell": "Содержание",
   "title_sidebar": "Содержание",
   "toc_cell": true,
   "toc_position": {},
   "toc_section_display": true,
   "toc_window_display": true
  },
  "varInspector": {
   "cols": {
    "lenName": 16,
    "lenType": 16,
    "lenVar": 40
   },
   "kernels_config": {
    "python": {
     "delete_cmd_postfix": "",
     "delete_cmd_prefix": "del ",
     "library": "var_list.py",
     "varRefreshCmd": "print(var_dic_list())"
    },
    "r": {
     "delete_cmd_postfix": ") ",
     "delete_cmd_prefix": "rm(",
     "library": "var_list.r",
     "varRefreshCmd": "cat(var_dic_list()) "
    }
   },
   "types_to_exclude": [
    "module",
    "function",
    "builtin_function_or_method",
    "instance",
    "_Feature"
   ],
   "window_display": false
  }
 },
 "nbformat": 4,
 "nbformat_minor": 4
}
