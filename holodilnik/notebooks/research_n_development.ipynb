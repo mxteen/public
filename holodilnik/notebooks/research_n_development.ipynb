{
 "cells": [
  {
   "cell_type": "markdown",
   "metadata": {},
   "source": [
    "#  Дрыц-тыц холодильник и шкафы"
   ]
  },
  {
   "cell_type": "markdown",
   "metadata": {},
   "source": [
    "## Описание\n",
    "\n",
    "\n",
    "### Как всё будет работать\n",
    "\n",
    "Заходим в бот телеграмм\n",
    "Отправляем голосове сообщение, в коором перечисляем, что есть в холодильнике и на кухне в шкафах\n",
    "Сообщение распознаётся и выдаётся текст (и запрос на подтверждение правильности распознавания)\n",
    "ДАлее выводится список подходящих рецептов с гиперссылками или же сообщение о том, что ничего не нашлось\n",
    "\n",
    "### Технические моменты\n",
    "\n",
    "**Сервер**\n",
    "* Сначала попробовать работу MVP на Google Colab, потом на Raspberry Pi\n",
    "* Gjnjv переложить, например, в Yandex Cloud, reg.ru облако и др.\n",
    "* Как выкладывать на облако - см. курс на Stepik про телеграмм-бот для создания канала новостей\n",
    "\n",
    "**Распознавание речи**\n",
    "* отправлять голосове сообщение удобнее, чем стоаять и печатать\n",
    "* см. проект `telegram_bot_voice_to_text`\n",
    "\n",
    "**Взаимодействие с пользователем**\n",
    "* Спросить правльно ли распознался список продуктов \n",
    "    - Вывести нумерованный список.\n",
    "    - Если неправильно, то дать возможность пользователю откорректировать ингридиент, набрав номер в списке и введя новое название.\n",
    "* Спросить про варианты подбора рецепта: \n",
    "    - полное совпадение;\n",
    "    - недостаток 1 иингридиента;\n",
    "    - недостаток 2 ингридиентов.\n",
    "\n",
    "**Логотип**\n",
    "* Логотип бота сгенерировать в MidJourney / Kandinsy / Шедеврум \n",
    "\n",
    "**Данные**\n",
    "* набрать базу из say7 и т.п. - потом на них законно ссылаться без нарушеняи авторских прав\n",
    "* можно даже ей предложить сотрудничество - она рекламирует бот, а внём только её рецепты\n",
    "\n",
    "**Тесты**\n",
    "* писать заранее - так приучать себя к test driven development (на этапе MVP в Google Colab - это будут простые assert statements или вообще простая проверка на равенство в ячейках)\n",
    "\n",
    "**Потенциальные проблемы**\n",
    "* подход с созданием `set` из слов - как быть с названиями ингридиентов из 2 и более слов типа `маринованные огурцы`, `лук репчатый`? Приводить всё к именительному падежу с помощью какой-то библиотеки? \n",
    "* Как искать искать игридиены-заменители типа `лук`, `лук репчатый`? Как не спутать `лук` с `перья лука`?"
   ]
  },
  {
   "cell_type": "markdown",
   "metadata": {},
   "source": [
    "## Библиотеки"
   ]
  },
  {
   "cell_type": "code",
   "execution_count": 3,
   "metadata": {},
   "outputs": [],
   "source": [
    "import requests\n",
    "import time\n",
    "import random\n",
    "import re\n",
    "from bs4 import BeautifulSoup\n",
    "import pymorphy2\n",
    "import pandas as pd\n",
    "from sqlalchemy import create_engine, text\n",
    "\n",
    "morph = pymorphy2.MorphAnalyzer()"
   ]
  },
  {
   "cell_type": "markdown",
   "metadata": {},
   "source": [
    "## Данные"
   ]
  },
  {
   "cell_type": "code",
   "execution_count": null,
   "metadata": {},
   "outputs": [],
   "source": [
    "# !pip install pymorphy2"
   ]
  },
  {
   "cell_type": "markdown",
   "metadata": {},
   "source": [
    "### План\n",
    "1. Составляем список ссылок на все рецепты с сайта\n",
    "2. Проходимся по каждой ссылке и добываем оттуда ингридиенты и их количество.\n",
    "3. Склываем в таблицу (mySQL) название id-блюда-ссылка-массив с ингридиентами "
   ]
  },
  {
   "cell_type": "markdown",
   "metadata": {},
   "source": [
    "### Составляем список ссылок на все рецепты с сайта"
   ]
  },
  {
   "cell_type": "code",
   "execution_count": null,
   "metadata": {},
   "outputs": [],
   "source": [
    "def get_recipe_links(url):\n",
    "    \"\"\"\n",
    "    Extracts recipe links from a given webpage.\n",
    "\n",
    "    Args:\n",
    "    - url (str): The URL of the webpage.\n",
    "\n",
    "    Returns:\n",
    "    - list: A list of recipe links found on the webpage.\n",
    "    \"\"\"\n",
    "    # Ensure that 'url' is used instead of an undeclared variable 'page'\n",
    "    response = requests.get(url)\n",
    "\n",
    "    # Use try-except block to handle potential exceptions during parsing\n",
    "    try:\n",
    "        soup = BeautifulSoup(response.text, 'html.parser')\n",
    "    except Exception as e:\n",
    "        print(f\"Error parsing HTML: {e}\")\n",
    "        return []\n",
    "\n",
    "    links = []\n",
    "    for link in soup.find_all('a'):\n",
    "        recipe_link = link.get('href')\n",
    "\n",
    "        # Ensure that 'https' is properly checked and 'recipe' is in the URL\n",
    "        if recipe_link and 'https' in recipe_link and 'recipe' in recipe_link:\n",
    "            links.append(recipe_link)\n",
    "\n",
    "    return links"
   ]
  },
  {
   "cell_type": "code",
   "execution_count": null,
   "metadata": {},
   "outputs": [],
   "source": [
    "%%time\n",
    "\n",
    "# первая страница с ссылками на рецепты отличается от последующих\n",
    "url = 'https://www.say7.info/cook/'\n",
    "recipe_links = get_recipe_links(url)\n",
    "\n",
    "# далее принцип формирования ссылок понятен: по 20 на каждой странице\n",
    "for n in range(20, 1400, 20):\n",
    "    url = f'https://www.say7.info/cook/linkz_start-{n}.html'\n",
    "    recipe_links += get_recipe_links(url)\n",
    "\n",
    "# записываем полученный список ссылок на рецепты в файл\n",
    "with open('../data/recipes.txt', 'w') as f:\n",
    "    for url in recipe_links:\n",
    "        f.write(url+'\\n')\n",
    "\n",
    "# В первый раз всё прошло за 36 c"
   ]
  },
  {
   "cell_type": "code",
   "execution_count": null,
   "metadata": {},
   "outputs": [],
   "source": [
    "# читаем файл со списком ссылок\n",
    "with open('../data/recipes.txt') as f:\n",
    "    recipe_urls = f.readlines()\n",
    "\n",
    "# убираем символы перевода каретки из ссылок\n",
    "recipe_urls = list(map(lambda x: x.strip(), recipe_links))"
   ]
  },
  {
   "cell_type": "markdown",
   "metadata": {},
   "source": [
    "### Список ингридиентов для каждого рецепта"
   ]
  },
  {
   "cell_type": "code",
   "execution_count": null,
   "metadata": {},
   "outputs": [],
   "source": [
    "def get_recipe_name_n_ingredients(recipe_url, headers=None):\n",
    "    ingredients = []\n",
    "\n",
    "    # Set headers to mimic a browser\n",
    "    if headers is None:\n",
    "        headers = {'User-Agent': 'Mozilla/5.0 (Windows NT 10.0; Win64; x64) AppleWebKit/537.36 (KHTML, like Gecko) Chrome/58.0.3029.110 Safari/537.3'}\n",
    "\n",
    "    try:\n",
    "        response = requests.get(recipe_url, headers=headers)\n",
    "        response.raise_for_status()  # Raise an exception for HTTP errors\n",
    "    except requests.exceptions.RequestException as e:\n",
    "        print(f\"Error fetching {recipe_url}: {e}\")\n",
    "        return {'recipe_name': None, 'ingredients': []}\n",
    "\n",
    "    soup = BeautifulSoup(response.text, 'html.parser')\n",
    "    recipe_name = soup.title.text  # название рецепта\n",
    "\n",
    "    # Extract ingredients logic here\n",
    "    for item in soup.find_all('li', class_='p-ingredient'):\n",
    "        ingredients.append(item.text)\n",
    "\n",
    "    return {'recipe_url': recipe_url, 'recipe_name': recipe_name, 'ingredients': ingredients}\n"
   ]
  },
  {
   "cell_type": "code",
   "execution_count": null,
   "metadata": {},
   "outputs": [],
   "source": [
    "%%time\n",
    "i = 0\n",
    "recipe_names = []\n",
    "ingredients = []\n",
    "\n",
    "for recipe_url in recipe_urls:\n",
    "    recipe_attrs = get_recipe_name_n_ingredients(recipe_url)\n",
    "    recipe_names.append(recipe_attrs['recipe_name'])\n",
    "    ingredients.append(recipe_attrs['ingredients'])\n",
    "    print(i, recipe_url, recipe_attrs['recipe_name'])\n",
    "    \n",
    "    # делаем паузу, чтоб не сильно атаковать сервер\n",
    "    random_pause = random.uniform(0.5, 10.0)\n",
    "    time.sleep(random_pause)\n",
    "    i += 1"
   ]
  },
  {
   "cell_type": "markdown",
   "metadata": {},
   "source": [
    "```\n",
    "ConnectionError: ('Connection aborted.', ConnectionResetError(10054, 'Удаленный хост принудительно разорвал существующее подключение', None, 10054, None))\n",
    "```\n",
    "\n",
    "Here is what I think happens: I'm trying to scrap data. The webserver does not like that and stops talking to my PC. The people owning the webserver have put measures into place that prevent random people from scraping all their stuff."
   ]
  },
  {
   "cell_type": "code",
   "execution_count": null,
   "metadata": {},
   "outputs": [],
   "source": [
    "df = pd.DataFrame(\n",
    "    {\n",
    "        'url': recipe_urls,\n",
    "        'recipe_name': recipe_names,\n",
    "        'ingredients': ingredients\n",
    "    }\n",
    ")"
   ]
  },
  {
   "cell_type": "code",
   "execution_count": null,
   "metadata": {},
   "outputs": [],
   "source": [
    "df.to_excel('../data/base.xlsx')"
   ]
  },
  {
   "cell_type": "code",
   "execution_count": null,
   "metadata": {},
   "outputs": [],
   "source": [
    "# df.to_csv('../data/base.csv')"
   ]
  },
  {
   "cell_type": "code",
   "execution_count": null,
   "metadata": {},
   "outputs": [],
   "source": [
    "# собираем то, что не получилось в первый раз\n",
    "recipe_urls = []\n",
    "recipe_names = []\n",
    "ingredients = []\n",
    "i = 0\n",
    "\n",
    "for recipe_url in df[df['recipe_name'].isna()]['url']:\n",
    "    recipe_attrs = get_recipe_name_n_ingredients(recipe_url)\n",
    "    recipe_urls.append(recipe_attrs['recipe_url'])\n",
    "    recipe_names.append(recipe_attrs['recipe_name'])\n",
    "    ingredients.append(recipe_attrs['ingredients'])\n",
    "    print(i, recipe_url, recipe_attrs['recipe_name'])\n",
    "    \n",
    "    # делаем паузу\n",
    "    random_pause = random.uniform(0.5, 5)\n",
    "    time.sleep(random_pause)\n",
    "    i += 1"
   ]
  },
  {
   "cell_type": "code",
   "execution_count": null,
   "metadata": {},
   "outputs": [],
   "source": [
    "df_to_add = pd.DataFrame(\n",
    "    {\n",
    "        'url': recipe_urls,\n",
    "        'recipe_name': recipe_names,\n",
    "        'ingredients': ingredients\n",
    "    }\n",
    ")"
   ]
  },
  {
   "cell_type": "code",
   "execution_count": null,
   "metadata": {},
   "outputs": [],
   "source": [
    "df.dropna(subset=['recipe_name'], inplace=True)\n",
    "df = df.append(df_to_add)"
   ]
  },
  {
   "cell_type": "code",
   "execution_count": null,
   "metadata": {},
   "outputs": [],
   "source": [
    "df.info()"
   ]
  },
  {
   "cell_type": "code",
   "execution_count": null,
   "metadata": {},
   "outputs": [],
   "source": [
    "df.to_csv('../data/base.csv', index=None)\n",
    "df.to_excel('../data/base.xlsx', index=None)"
   ]
  },
  {
   "cell_type": "markdown",
   "metadata": {},
   "source": [
    "### Преобазование списка ингридиентов (начальная форма) и создание правил для поиска и замены"
   ]
  },
  {
   "cell_type": "code",
   "execution_count": 42,
   "metadata": {},
   "outputs": [],
   "source": [
    "df = pd.read_excel('../data/database.xlsx')"
   ]
  },
  {
   "cell_type": "code",
   "execution_count": 43,
   "metadata": {},
   "outputs": [
    {
     "data": {
      "text/html": [
       "<div>\n",
       "<style scoped>\n",
       "    .dataframe tbody tr th:only-of-type {\n",
       "        vertical-align: middle;\n",
       "    }\n",
       "\n",
       "    .dataframe tbody tr th {\n",
       "        vertical-align: top;\n",
       "    }\n",
       "\n",
       "    .dataframe thead th {\n",
       "        text-align: right;\n",
       "    }\n",
       "</style>\n",
       "<table border=\"1\" class=\"dataframe\">\n",
       "  <thead>\n",
       "    <tr style=\"text-align: right;\">\n",
       "      <th></th>\n",
       "      <th>url</th>\n",
       "      <th>recipe_name</th>\n",
       "      <th>ingredients</th>\n",
       "    </tr>\n",
       "  </thead>\n",
       "  <tbody>\n",
       "    <tr>\n",
       "      <th>0</th>\n",
       "      <td>https://www.say7.info/cook/recipe/1590-Tort-Tr...</td>\n",
       "      <td>Торт «Три шоколада»</td>\n",
       "      <td>['3 яйца (небольших)', '100\\xa0г сахара', '70\\...</td>\n",
       "    </tr>\n",
       "    <tr>\n",
       "      <th>1</th>\n",
       "      <td>https://www.say7.info/cook/recipe/56-Salat-Mim...</td>\n",
       "      <td>Салат «Мимоза»</td>\n",
       "      <td>['200\\xa0г консервированной в\\xa0масле рыбы (л...</td>\n",
       "    </tr>\n",
       "    <tr>\n",
       "      <th>2</th>\n",
       "      <td>https://www.say7.info/cook/recipe/935-Pelmeni....</td>\n",
       "      <td>Пельмени</td>\n",
       "      <td>['250\\xa0мл молока', '1 яйцо', '1\\xa0ст.л. рас...</td>\n",
       "    </tr>\n",
       "    <tr>\n",
       "      <th>3</th>\n",
       "      <td>https://www.say7.info/cook/recipe/60-YAblochny...</td>\n",
       "      <td>Яблочный пирог</td>\n",
       "      <td>['1\\xa0кг яблок (желательно, кислых или\\xa0кис...</td>\n",
       "    </tr>\n",
       "    <tr>\n",
       "      <th>4</th>\n",
       "      <td>https://www.say7.info/cook/recipe/1521-Brusket...</td>\n",
       "      <td>Брускетта с тунцом и помидорами</td>\n",
       "      <td>['150\\xa0г багета', '150\\xa0г тунца (я\\xa0испо...</td>\n",
       "    </tr>\n",
       "  </tbody>\n",
       "</table>\n",
       "</div>"
      ],
      "text/plain": [
       "                                                 url  \\\n",
       "0  https://www.say7.info/cook/recipe/1590-Tort-Tr...   \n",
       "1  https://www.say7.info/cook/recipe/56-Salat-Mim...   \n",
       "2  https://www.say7.info/cook/recipe/935-Pelmeni....   \n",
       "3  https://www.say7.info/cook/recipe/60-YAblochny...   \n",
       "4  https://www.say7.info/cook/recipe/1521-Brusket...   \n",
       "\n",
       "                       recipe_name  \\\n",
       "0              Торт «Три шоколада»   \n",
       "1                   Салат «Мимоза»   \n",
       "2                         Пельмени   \n",
       "3                   Яблочный пирог   \n",
       "4  Брускетта с тунцом и помидорами   \n",
       "\n",
       "                                         ingredients  \n",
       "0  ['3 яйца (небольших)', '100\\xa0г сахара', '70\\...  \n",
       "1  ['200\\xa0г консервированной в\\xa0масле рыбы (л...  \n",
       "2  ['250\\xa0мл молока', '1 яйцо', '1\\xa0ст.л. рас...  \n",
       "3  ['1\\xa0кг яблок (желательно, кислых или\\xa0кис...  \n",
       "4  ['150\\xa0г багета', '150\\xa0г тунца (я\\xa0испо...  "
      ]
     },
     "execution_count": 43,
     "metadata": {},
     "output_type": "execute_result"
    }
   ],
   "source": [
    "df.head()"
   ]
  },
  {
   "cell_type": "markdown",
   "metadata": {},
   "source": [
    "#### Правила замены (упрощения)"
   ]
  },
  {
   "cell_type": "code",
   "execution_count": 161,
   "metadata": {},
   "outputs": [],
   "source": [
    "def make_initial_form(ingredient):\n",
    "    \"\"\"\n",
    "    ingredient (str): name of the ingredient\n",
    "    \"\"\"\n",
    "    ingredient_initial = [morph.parse(word)[0].normal_form for word in ingredient.split()]\n",
    "    return ' '.join(ingredient_initial)\n",
    "\n",
    "\n",
    "def extract_ingredient_names(string):\n",
    "    # Use regular expression to find text within single quotes\n",
    "    ingredient_names = re.findall(r\"'(.*?)'\", string)\n",
    "\n",
    "    # Remove digits, specific strings '\\\\xa0г' and '\\\\xa0', and the \"–\" symbol\n",
    "    cleaned_ingredient_names = [\n",
    "        re.sub(r'\\d+|\\\\xa0г|\\\\xa0|–|\\\\xaмл|\\\\xa0ч.л.|\\([^)]*\\)|%|\\\\xa0ст.л.|\\\\xa0кг',\n",
    "               '', ingredient).strip() for ingredient in ingredient_names]\n",
    "    \n",
    "    cleaned_ingredient_names = [\n",
    "        re.sub(r'ч.л.|ст.л.|¼|½|\\.',\n",
    "               '', ingredient).strip() for ingredient in cleaned_ingredient_names]\n",
    "    \n",
    "    # Making initial form of words\n",
    "    ingredients_initial = [\n",
    "        make_initial_form(ingredient) for ingredient in cleaned_ingredient_names]\n",
    "    \n",
    "    return ingredients_initial\n"
   ]
  },
  {
   "cell_type": "code",
   "execution_count": 162,
   "metadata": {},
   "outputs": [
    {
     "data": {
      "text/plain": [
       "['консервированный вмасло рыба',\n",
       " 'картофель',\n",
       " 'морковь',\n",
       " 'лука',\n",
       " 'яйцо',\n",
       " 'соль',\n",
       " 'майонез']"
      ]
     },
     "execution_count": 162,
     "metadata": {},
     "output_type": "execute_result"
    }
   ],
   "source": [
    "# test 1\n",
    "string = \"['200\\\\xa0г консервированной в\\\\xa0масле рыбы (лучше всего сайры)', '300\\\\xa0г картофеля', '200\\\\xa0г моркови', '150\\\\xa0г лука', '4 яйца', 'соль', 'майонез']\"\n",
    "extract_ingredient_names(string)"
   ]
  },
  {
   "cell_type": "code",
   "execution_count": 163,
   "metadata": {},
   "outputs": [
    {
     "data": {
      "text/plain": [
       "['филе сёмга илифорель', 'соль', 'сахар', 'перец']"
      ]
     },
     "execution_count": 163,
     "metadata": {},
     "output_type": "execute_result"
    }
   ],
   "source": [
    "# test 2\n",
    "string = \"['500\\\\xa0г филе семги или\\\\xa0форели', '50\\\\xa0г (2.5\\\\xa0ст.л.) соли (лучше крупной)', '20\\\\xa0г (1\\\\xa0ст.л.) сахара', '½\\\\xa0ч.л. перца (по желанию)']\"\n",
    "extract_ingredient_names(string)"
   ]
  },
  {
   "cell_type": "code",
   "execution_count": 164,
   "metadata": {},
   "outputs": [
    {
     "data": {
      "text/plain": [
       "['яйцо',\n",
       " 'г сахар',\n",
       " 'разрыхлитель',\n",
       " 'г мука',\n",
       " 'г творожный сыр',\n",
       " 'мл сливка',\n",
       " 'яйцо',\n",
       " 'г сахар',\n",
       " 'ванильный сахар',\n",
       " 'г яблоко',\n",
       " 'корица',\n",
       " 'коричневый сахар']"
      ]
     },
     "execution_count": 164,
     "metadata": {},
     "output_type": "execute_result"
    }
   ],
   "source": [
    "# test 3\n",
    "string = \"['2 яйца', '100\\xa0г сахара', '1\\xa0ч.л. разрыхлителя', '100–130\\xa0г муки', '600\\xa0г творожного сыра (Филадельфия, Хохланд, Альметте и\\xa0т.д.)', '200\\xa0мл сливок 33%', '3 яйца', '150\\xa0г сахара', '2\\xa0ч.л. ванильного сахара', '500\\xa0г яблок', '1\\xa0ч.л. корицы (по желанию)', '3\\xa0ст.л. коричневого сахара (или белого)']\"\n",
    "extract_ingredient_names(string)"
   ]
  },
  {
   "cell_type": "code",
   "execution_count": 175,
   "metadata": {},
   "outputs": [],
   "source": [
    "# string = df.iloc[122, 2]\n",
    "# print(string)\n",
    "# print(extract_ingredient_names(string))"
   ]
  },
  {
   "cell_type": "code",
   "execution_count": 176,
   "metadata": {},
   "outputs": [
    {
     "name": "stdout",
     "output_type": "stream",
     "text": [
      "Wall time: 8.49 s\n"
     ]
    }
   ],
   "source": [
    "%%time\n",
    "df['ingredients_clean'] = df['ingredients'].apply(extract_ingredient_names)"
   ]
  },
  {
   "cell_type": "code",
   "execution_count": 177,
   "metadata": {},
   "outputs": [
    {
     "data": {
      "text/html": [
       "<div>\n",
       "<style scoped>\n",
       "    .dataframe tbody tr th:only-of-type {\n",
       "        vertical-align: middle;\n",
       "    }\n",
       "\n",
       "    .dataframe tbody tr th {\n",
       "        vertical-align: top;\n",
       "    }\n",
       "\n",
       "    .dataframe thead th {\n",
       "        text-align: right;\n",
       "    }\n",
       "</style>\n",
       "<table border=\"1\" class=\"dataframe\">\n",
       "  <thead>\n",
       "    <tr style=\"text-align: right;\">\n",
       "      <th></th>\n",
       "      <th>url</th>\n",
       "      <th>recipe_name</th>\n",
       "      <th>ingredients</th>\n",
       "      <th>ingredients_clean</th>\n",
       "    </tr>\n",
       "  </thead>\n",
       "  <tbody>\n",
       "    <tr>\n",
       "      <th>0</th>\n",
       "      <td>https://www.say7.info/cook/recipe/1590-Tort-Tr...</td>\n",
       "      <td>Торт «Три шоколада»</td>\n",
       "      <td>['3 яйца (небольших)', '100\\xa0г сахара', '70\\...</td>\n",
       "      <td>[яйцо, сахар, мл молоко, сливочный масло, шоко...</td>\n",
       "    </tr>\n",
       "    <tr>\n",
       "      <th>1</th>\n",
       "      <td>https://www.say7.info/cook/recipe/56-Salat-Mim...</td>\n",
       "      <td>Салат «Мимоза»</td>\n",
       "      <td>['200\\xa0г консервированной в\\xa0масле рыбы (л...</td>\n",
       "      <td>[консервированный вмасло рыба, картофель, морк...</td>\n",
       "    </tr>\n",
       "    <tr>\n",
       "      <th>2</th>\n",
       "      <td>https://www.say7.info/cook/recipe/935-Pelmeni....</td>\n",
       "      <td>Пельмени</td>\n",
       "      <td>['250\\xa0мл молока', '1 яйцо', '1\\xa0ст.л. рас...</td>\n",
       "      <td>[мл молоко, яйцо, растительный масло, соль, му...</td>\n",
       "    </tr>\n",
       "    <tr>\n",
       "      <th>3</th>\n",
       "      <td>https://www.say7.info/cook/recipe/60-YAblochny...</td>\n",
       "      <td>Яблочный пирог</td>\n",
       "      <td>['1\\xa0кг яблок (желательно, кислых или\\xa0кис...</td>\n",
       "      <td>[кг яблоко, сахар, сливочный масло, яйцо, разр...</td>\n",
       "    </tr>\n",
       "    <tr>\n",
       "      <th>4</th>\n",
       "      <td>https://www.say7.info/cook/recipe/1521-Brusket...</td>\n",
       "      <td>Брускетта с тунцом и помидорами</td>\n",
       "      <td>['150\\xa0г багета', '150\\xa0г тунца (я\\xa0испо...</td>\n",
       "      <td>[багет, тунец, помидор, зелень повкус, соль, р...</td>\n",
       "    </tr>\n",
       "  </tbody>\n",
       "</table>\n",
       "</div>"
      ],
      "text/plain": [
       "                                                 url  \\\n",
       "0  https://www.say7.info/cook/recipe/1590-Tort-Tr...   \n",
       "1  https://www.say7.info/cook/recipe/56-Salat-Mim...   \n",
       "2  https://www.say7.info/cook/recipe/935-Pelmeni....   \n",
       "3  https://www.say7.info/cook/recipe/60-YAblochny...   \n",
       "4  https://www.say7.info/cook/recipe/1521-Brusket...   \n",
       "\n",
       "                       recipe_name  \\\n",
       "0              Торт «Три шоколада»   \n",
       "1                   Салат «Мимоза»   \n",
       "2                         Пельмени   \n",
       "3                   Яблочный пирог   \n",
       "4  Брускетта с тунцом и помидорами   \n",
       "\n",
       "                                         ingredients  \\\n",
       "0  ['3 яйца (небольших)', '100\\xa0г сахара', '70\\...   \n",
       "1  ['200\\xa0г консервированной в\\xa0масле рыбы (л...   \n",
       "2  ['250\\xa0мл молока', '1 яйцо', '1\\xa0ст.л. рас...   \n",
       "3  ['1\\xa0кг яблок (желательно, кислых или\\xa0кис...   \n",
       "4  ['150\\xa0г багета', '150\\xa0г тунца (я\\xa0испо...   \n",
       "\n",
       "                                   ingredients_clean  \n",
       "0  [яйцо, сахар, мл молоко, сливочный масло, шоко...  \n",
       "1  [консервированный вмасло рыба, картофель, морк...  \n",
       "2  [мл молоко, яйцо, растительный масло, соль, му...  \n",
       "3  [кг яблоко, сахар, сливочный масло, яйцо, разр...  \n",
       "4  [багет, тунец, помидор, зелень повкус, соль, р...  "
      ]
     },
     "execution_count": 177,
     "metadata": {},
     "output_type": "execute_result"
    }
   ],
   "source": [
    "df.head()"
   ]
  },
  {
   "cell_type": "code",
   "execution_count": 178,
   "metadata": {},
   "outputs": [],
   "source": [
    "all_ingredients = []\n",
    "\n",
    "for ingredient_list in df['ingredients_clean']:\n",
    "    for ingredient in ingredient_list:\n",
    "        all_ingredients.append(ingredient)\n",
    "        \n",
    "all_ingredients = pd.Series(all_ingredients)"
   ]
  },
  {
   "cell_type": "code",
   "execution_count": 179,
   "metadata": {},
   "outputs": [
    {
     "data": {
      "text/plain": [
       "count     11499\n",
       "unique     1064\n",
       "top        соль\n",
       "freq        979\n",
       "dtype: object"
      ]
     },
     "execution_count": 179,
     "metadata": {},
     "output_type": "execute_result"
    }
   ],
   "source": [
    "all_ingredients.describe()"
   ]
  },
  {
   "cell_type": "code",
   "execution_count": 180,
   "metadata": {},
   "outputs": [],
   "source": [
    "# all_ingredients.value_counts().to_excel('../data/unified_names.xlsx', index=None)\n",
    "all_ingredients.value_counts().to_excel('../data/name_mapping.xlsx', index=True)"
   ]
  },
  {
   "cell_type": "markdown",
   "metadata": {},
   "source": [
    "То, что наговаривает пользователи (как называет свои продукты), тоже нужно будет записвыать и анализировать, чтобы понять, какие им замены подбирать. "
   ]
  },
  {
   "cell_type": "code",
   "execution_count": 181,
   "metadata": {},
   "outputs": [
    {
     "data": {
      "text/html": [
       "<div>\n",
       "<style scoped>\n",
       "    .dataframe tbody tr th:only-of-type {\n",
       "        vertical-align: middle;\n",
       "    }\n",
       "\n",
       "    .dataframe tbody tr th {\n",
       "        vertical-align: top;\n",
       "    }\n",
       "\n",
       "    .dataframe thead th {\n",
       "        text-align: right;\n",
       "    }\n",
       "</style>\n",
       "<table border=\"1\" class=\"dataframe\">\n",
       "  <thead>\n",
       "    <tr style=\"text-align: right;\">\n",
       "      <th></th>\n",
       "      <th>possible_name</th>\n",
       "      <th>qty</th>\n",
       "      <th>unified_name</th>\n",
       "      <th>is_necessary</th>\n",
       "    </tr>\n",
       "  </thead>\n",
       "  <tbody>\n",
       "    <tr>\n",
       "      <th>0</th>\n",
       "      <td>лук</td>\n",
       "      <td>451.0</td>\n",
       "      <td>лук</td>\n",
       "      <td>True</td>\n",
       "    </tr>\n",
       "    <tr>\n",
       "      <th>1</th>\n",
       "      <td>соль</td>\n",
       "      <td>867.0</td>\n",
       "      <td>соль</td>\n",
       "      <td>False</td>\n",
       "    </tr>\n",
       "    <tr>\n",
       "      <th>2</th>\n",
       "      <td>перец</td>\n",
       "      <td>691.0</td>\n",
       "      <td>перец</td>\n",
       "      <td>True</td>\n",
       "    </tr>\n",
       "    <tr>\n",
       "      <th>3</th>\n",
       "      <td>сахар</td>\n",
       "      <td>532.0</td>\n",
       "      <td>сахар</td>\n",
       "      <td>False</td>\n",
       "    </tr>\n",
       "    <tr>\n",
       "      <th>4</th>\n",
       "      <td>яйцо</td>\n",
       "      <td>523.0</td>\n",
       "      <td>яйцо</td>\n",
       "      <td>True</td>\n",
       "    </tr>\n",
       "  </tbody>\n",
       "</table>\n",
       "</div>"
      ],
      "text/plain": [
       "  possible_name    qty unified_name is_necessary\n",
       "0           лук  451.0          лук         True\n",
       "1          соль  867.0         соль        False\n",
       "2         перец  691.0        перец         True\n",
       "3         сахар  532.0        сахар        False\n",
       "4          яйцо  523.0         яйцо         True"
      ]
     },
     "execution_count": 181,
     "metadata": {},
     "output_type": "execute_result"
    }
   ],
   "source": [
    "df_unified_names = pd.read_excel('../data/unified_names.xlsx')\n",
    "df_unified_names.head()"
   ]
  },
  {
   "cell_type": "code",
   "execution_count": 183,
   "metadata": {},
   "outputs": [
    {
     "data": {
      "text/html": [
       "<div>\n",
       "<style scoped>\n",
       "    .dataframe tbody tr th:only-of-type {\n",
       "        vertical-align: middle;\n",
       "    }\n",
       "\n",
       "    .dataframe tbody tr th {\n",
       "        vertical-align: top;\n",
       "    }\n",
       "\n",
       "    .dataframe thead th {\n",
       "        text-align: right;\n",
       "    }\n",
       "</style>\n",
       "<table border=\"1\" class=\"dataframe\">\n",
       "  <thead>\n",
       "    <tr style=\"text-align: right;\">\n",
       "      <th></th>\n",
       "      <th>possible_name</th>\n",
       "      <th>qty</th>\n",
       "      <th>unified_name</th>\n",
       "      <th>is_necessary</th>\n",
       "    </tr>\n",
       "  </thead>\n",
       "  <tbody>\n",
       "    <tr>\n",
       "      <th>0</th>\n",
       "      <td>лук</td>\n",
       "      <td>451.0</td>\n",
       "      <td>лук</td>\n",
       "      <td>True</td>\n",
       "    </tr>\n",
       "    <tr>\n",
       "      <th>1</th>\n",
       "      <td>соль</td>\n",
       "      <td>867.0</td>\n",
       "      <td>соль</td>\n",
       "      <td>False</td>\n",
       "    </tr>\n",
       "    <tr>\n",
       "      <th>2</th>\n",
       "      <td>перец</td>\n",
       "      <td>691.0</td>\n",
       "      <td>перец</td>\n",
       "      <td>True</td>\n",
       "    </tr>\n",
       "    <tr>\n",
       "      <th>3</th>\n",
       "      <td>сахар</td>\n",
       "      <td>532.0</td>\n",
       "      <td>сахар</td>\n",
       "      <td>False</td>\n",
       "    </tr>\n",
       "    <tr>\n",
       "      <th>4</th>\n",
       "      <td>яйцо</td>\n",
       "      <td>523.0</td>\n",
       "      <td>яйцо</td>\n",
       "      <td>True</td>\n",
       "    </tr>\n",
       "    <tr>\n",
       "      <th>...</th>\n",
       "      <td>...</td>\n",
       "      <td>...</td>\n",
       "      <td>...</td>\n",
       "      <td>...</td>\n",
       "    </tr>\n",
       "    <tr>\n",
       "      <th>3104</th>\n",
       "      <td>сладкое молотый перец</td>\n",
       "      <td>1.0</td>\n",
       "      <td>NaN</td>\n",
       "      <td>NaN</td>\n",
       "    </tr>\n",
       "    <tr>\n",
       "      <th>3105</th>\n",
       "      <td>крупный ракушка лумаконь</td>\n",
       "      <td>1.0</td>\n",
       "      <td>NaN</td>\n",
       "      <td>NaN</td>\n",
       "    </tr>\n",
       "    <tr>\n",
       "      <th>3106</th>\n",
       "      <td>филе сырой сёмга илифорель</td>\n",
       "      <td>1.0</td>\n",
       "      <td>NaN</td>\n",
       "      <td>NaN</td>\n",
       "    </tr>\n",
       "    <tr>\n",
       "      <th>3107</th>\n",
       "      <td>мл сметана</td>\n",
       "      <td>1.0</td>\n",
       "      <td>NaN</td>\n",
       "      <td>NaN</td>\n",
       "    </tr>\n",
       "    <tr>\n",
       "      <th>3108</th>\n",
       "      <td>уксус или лимонный сок</td>\n",
       "      <td>1.0</td>\n",
       "      <td>NaN</td>\n",
       "      <td>NaN</td>\n",
       "    </tr>\n",
       "  </tbody>\n",
       "</table>\n",
       "<p>3109 rows × 4 columns</p>\n",
       "</div>"
      ],
      "text/plain": [
       "                   possible_name    qty unified_name is_necessary\n",
       "0                            лук  451.0          лук         True\n",
       "1                           соль  867.0         соль        False\n",
       "2                          перец  691.0        перец         True\n",
       "3                          сахар  532.0        сахар        False\n",
       "4                           яйцо  523.0         яйцо         True\n",
       "...                          ...    ...          ...          ...\n",
       "3104       сладкое молотый перец    1.0          NaN          NaN\n",
       "3105    крупный ракушка лумаконь    1.0          NaN          NaN\n",
       "3106  филе сырой сёмга илифорель    1.0          NaN          NaN\n",
       "3107                  мл сметана    1.0          NaN          NaN\n",
       "3108      уксус или лимонный сок    1.0          NaN          NaN\n",
       "\n",
       "[3109 rows x 4 columns]"
      ]
     },
     "execution_count": 183,
     "metadata": {},
     "output_type": "execute_result"
    }
   ],
   "source": [
    "df_unified_names"
   ]
  },
  {
   "cell_type": "code",
   "execution_count": 184,
   "metadata": {},
   "outputs": [],
   "source": [
    "# df_unified_names.drop_duplicates(subset='possible_name').to_excel('../data/name_mapping.xlsx', index=False)"
   ]
  },
  {
   "cell_type": "code",
   "execution_count": 37,
   "metadata": {},
   "outputs": [],
   "source": [
    "# Dictionary defining the mappings\n",
    "name_mappings = dict(zip(df_unified_names['possible_name'], df_unified_names['unified_name']))\n",
    "\n",
    "\n",
    "# Replace with unified names\n",
    "def unify_ingredient_names(ingredient_list, name_mappings):\n",
    "    mapped_list = [name_mappings.get(ingredient, ingredient) for ingredient in ingredient_list]\n",
    "    return mapped_list\n",
    "\n",
    "df['ingredients_unified'] = df['ingredients_clean'].apply(\n",
    "    unify_ingredient_names, **{'name_mappings': name_mappings}\n",
    ")\n",
    "\n",
    "df.drop(columns=['ingredients', 'ingredients_clean'], inplace=True)"
   ]
  },
  {
   "cell_type": "code",
   "execution_count": 41,
   "metadata": {},
   "outputs": [
    {
     "data": {
      "text/html": [
       "<div>\n",
       "<style scoped>\n",
       "    .dataframe tbody tr th:only-of-type {\n",
       "        vertical-align: middle;\n",
       "    }\n",
       "\n",
       "    .dataframe tbody tr th {\n",
       "        vertical-align: top;\n",
       "    }\n",
       "\n",
       "    .dataframe thead th {\n",
       "        text-align: right;\n",
       "    }\n",
       "</style>\n",
       "<table border=\"1\" class=\"dataframe\">\n",
       "  <thead>\n",
       "    <tr style=\"text-align: right;\">\n",
       "      <th></th>\n",
       "      <th>url</th>\n",
       "      <th>recipe_name</th>\n",
       "      <th>ingredients_unified</th>\n",
       "    </tr>\n",
       "  </thead>\n",
       "  <tbody>\n",
       "    <tr>\n",
       "      <th>0</th>\n",
       "      <td>https://www.say7.info/cook/recipe/1590-Tort-Tr...</td>\n",
       "      <td>Торт «Три шоколада»</td>\n",
       "      <td>[яйцо, сахар, молоко, сливочный масло, шоколад...</td>\n",
       "    </tr>\n",
       "    <tr>\n",
       "      <th>1</th>\n",
       "      <td>https://www.say7.info/cook/recipe/56-Salat-Mim...</td>\n",
       "      <td>Салат «Мимоза»</td>\n",
       "      <td>[консервированный вмасло рыба (хороший весь са...</td>\n",
       "    </tr>\n",
       "    <tr>\n",
       "      <th>2</th>\n",
       "      <td>https://www.say7.info/cook/recipe/935-Pelmeni....</td>\n",
       "      <td>Пельмени</td>\n",
       "      <td>[молоко, яйцо, растительное масло, соль, мука,...</td>\n",
       "    </tr>\n",
       "    <tr>\n",
       "      <th>3</th>\n",
       "      <td>https://www.say7.info/cook/recipe/60-YAblochny...</td>\n",
       "      <td>Яблочный пирог</td>\n",
       "      <td>[кг яблоко (желательно, кислый иликисло-сладки...</td>\n",
       "    </tr>\n",
       "    <tr>\n",
       "      <th>4</th>\n",
       "      <td>https://www.say7.info/cook/recipe/1521-Brusket...</td>\n",
       "      <td>Брускетта с тунцом и помидорами</td>\n",
       "      <td>[багет, тунец (яиспользовать всобственный соку...</td>\n",
       "    </tr>\n",
       "  </tbody>\n",
       "</table>\n",
       "</div>"
      ],
      "text/plain": [
       "                                                 url  \\\n",
       "0  https://www.say7.info/cook/recipe/1590-Tort-Tr...   \n",
       "1  https://www.say7.info/cook/recipe/56-Salat-Mim...   \n",
       "2  https://www.say7.info/cook/recipe/935-Pelmeni....   \n",
       "3  https://www.say7.info/cook/recipe/60-YAblochny...   \n",
       "4  https://www.say7.info/cook/recipe/1521-Brusket...   \n",
       "\n",
       "                       recipe_name  \\\n",
       "0              Торт «Три шоколада»   \n",
       "1                   Салат «Мимоза»   \n",
       "2                         Пельмени   \n",
       "3                   Яблочный пирог   \n",
       "4  Брускетта с тунцом и помидорами   \n",
       "\n",
       "                                 ingredients_unified  \n",
       "0  [яйцо, сахар, молоко, сливочный масло, шоколад...  \n",
       "1  [консервированный вмасло рыба (хороший весь са...  \n",
       "2  [молоко, яйцо, растительное масло, соль, мука,...  \n",
       "3  [кг яблоко (желательно, кислый иликисло-сладки...  \n",
       "4  [багет, тунец (яиспользовать всобственный соку...  "
      ]
     },
     "execution_count": 41,
     "metadata": {},
     "output_type": "execute_result"
    }
   ],
   "source": [
    "df.head()"
   ]
  },
  {
   "cell_type": "markdown",
   "metadata": {},
   "source": [
    "### Создание базы данных SQLite\n",
    "\n",
    "https://pandas.pydata.org/pandas-docs/stable/reference/api/pandas.DataFrame.to_sql.html"
   ]
  },
  {
   "cell_type": "code",
   "execution_count": 7,
   "metadata": {},
   "outputs": [
    {
     "ename": "TypeError",
     "evalue": "__init__() got multiple values for argument 'schema'",
     "output_type": "error",
     "traceback": [
      "\u001b[1;31m---------------------------------------------------------------------------\u001b[0m",
      "\u001b[1;31mTypeError\u001b[0m                                 Traceback (most recent call last)",
      "\u001b[1;32m<ipython-input-7-8656f9618dcb>\u001b[0m in \u001b[0;36m<module>\u001b[1;34m\u001b[0m\n\u001b[0;32m      1\u001b[0m \u001b[0mengine\u001b[0m \u001b[1;33m=\u001b[0m \u001b[0mcreate_engine\u001b[0m\u001b[1;33m(\u001b[0m\u001b[1;34m'sqlite://'\u001b[0m\u001b[1;33m,\u001b[0m \u001b[0mecho\u001b[0m\u001b[1;33m=\u001b[0m\u001b[1;32mFalse\u001b[0m\u001b[1;33m)\u001b[0m\u001b[1;33m\u001b[0m\u001b[1;33m\u001b[0m\u001b[0m\n\u001b[1;32m----> 2\u001b[1;33m \u001b[0mdf\u001b[0m\u001b[1;33m.\u001b[0m\u001b[0mto_sql\u001b[0m\u001b[1;33m(\u001b[0m\u001b[0mname\u001b[0m\u001b[1;33m=\u001b[0m\u001b[1;34m'recipes.sqlite'\u001b[0m\u001b[1;33m,\u001b[0m \u001b[0mcon\u001b[0m\u001b[1;33m=\u001b[0m\u001b[0mengine\u001b[0m\u001b[1;33m)\u001b[0m\u001b[1;33m\u001b[0m\u001b[1;33m\u001b[0m\u001b[0m\n\u001b[0m",
      "\u001b[1;32mC:\\Anaconda3\\lib\\site-packages\\pandas\\core\\generic.py\u001b[0m in \u001b[0;36mto_sql\u001b[1;34m(self, name, con, schema, if_exists, index, index_label, chunksize, dtype, method)\u001b[0m\n\u001b[0;32m   2603\u001b[0m         \u001b[1;32mfrom\u001b[0m \u001b[0mpandas\u001b[0m\u001b[1;33m.\u001b[0m\u001b[0mio\u001b[0m \u001b[1;32mimport\u001b[0m \u001b[0msql\u001b[0m\u001b[1;33m\u001b[0m\u001b[1;33m\u001b[0m\u001b[0m\n\u001b[0;32m   2604\u001b[0m \u001b[1;33m\u001b[0m\u001b[0m\n\u001b[1;32m-> 2605\u001b[1;33m         sql.to_sql(\n\u001b[0m\u001b[0;32m   2606\u001b[0m             \u001b[0mself\u001b[0m\u001b[1;33m,\u001b[0m\u001b[1;33m\u001b[0m\u001b[1;33m\u001b[0m\u001b[0m\n\u001b[0;32m   2607\u001b[0m             \u001b[0mname\u001b[0m\u001b[1;33m,\u001b[0m\u001b[1;33m\u001b[0m\u001b[1;33m\u001b[0m\u001b[0m\n",
      "\u001b[1;32mC:\\Anaconda3\\lib\\site-packages\\pandas\\io\\sql.py\u001b[0m in \u001b[0;36mto_sql\u001b[1;34m(frame, name, con, schema, if_exists, index, index_label, chunksize, dtype, method)\u001b[0m\n\u001b[0;32m    578\u001b[0m         \u001b[1;32mraise\u001b[0m \u001b[0mValueError\u001b[0m\u001b[1;33m(\u001b[0m\u001b[1;34mf\"'{if_exists}' is not valid for if_exists\"\u001b[0m\u001b[1;33m)\u001b[0m\u001b[1;33m\u001b[0m\u001b[1;33m\u001b[0m\u001b[0m\n\u001b[0;32m    579\u001b[0m \u001b[1;33m\u001b[0m\u001b[0m\n\u001b[1;32m--> 580\u001b[1;33m     \u001b[0mpandas_sql\u001b[0m \u001b[1;33m=\u001b[0m \u001b[0mpandasSQL_builder\u001b[0m\u001b[1;33m(\u001b[0m\u001b[0mcon\u001b[0m\u001b[1;33m,\u001b[0m \u001b[0mschema\u001b[0m\u001b[1;33m=\u001b[0m\u001b[0mschema\u001b[0m\u001b[1;33m)\u001b[0m\u001b[1;33m\u001b[0m\u001b[1;33m\u001b[0m\u001b[0m\n\u001b[0m\u001b[0;32m    581\u001b[0m \u001b[1;33m\u001b[0m\u001b[0m\n\u001b[0;32m    582\u001b[0m     \u001b[1;32mif\u001b[0m \u001b[0misinstance\u001b[0m\u001b[1;33m(\u001b[0m\u001b[0mframe\u001b[0m\u001b[1;33m,\u001b[0m \u001b[0mSeries\u001b[0m\u001b[1;33m)\u001b[0m\u001b[1;33m:\u001b[0m\u001b[1;33m\u001b[0m\u001b[1;33m\u001b[0m\u001b[0m\n",
      "\u001b[1;32mC:\\Anaconda3\\lib\\site-packages\\pandas\\io\\sql.py\u001b[0m in \u001b[0;36mpandasSQL_builder\u001b[1;34m(con, schema, meta, is_cursor)\u001b[0m\n\u001b[0;32m    654\u001b[0m     \u001b[0mcon\u001b[0m \u001b[1;33m=\u001b[0m \u001b[0m_engine_builder\u001b[0m\u001b[1;33m(\u001b[0m\u001b[0mcon\u001b[0m\u001b[1;33m)\u001b[0m\u001b[1;33m\u001b[0m\u001b[1;33m\u001b[0m\u001b[0m\n\u001b[0;32m    655\u001b[0m     \u001b[1;32mif\u001b[0m \u001b[0m_is_sqlalchemy_connectable\u001b[0m\u001b[1;33m(\u001b[0m\u001b[0mcon\u001b[0m\u001b[1;33m)\u001b[0m\u001b[1;33m:\u001b[0m\u001b[1;33m\u001b[0m\u001b[1;33m\u001b[0m\u001b[0m\n\u001b[1;32m--> 656\u001b[1;33m         \u001b[1;32mreturn\u001b[0m \u001b[0mSQLDatabase\u001b[0m\u001b[1;33m(\u001b[0m\u001b[0mcon\u001b[0m\u001b[1;33m,\u001b[0m \u001b[0mschema\u001b[0m\u001b[1;33m=\u001b[0m\u001b[0mschema\u001b[0m\u001b[1;33m,\u001b[0m \u001b[0mmeta\u001b[0m\u001b[1;33m=\u001b[0m\u001b[0mmeta\u001b[0m\u001b[1;33m)\u001b[0m\u001b[1;33m\u001b[0m\u001b[1;33m\u001b[0m\u001b[0m\n\u001b[0m\u001b[0;32m    657\u001b[0m     \u001b[1;32melif\u001b[0m \u001b[0misinstance\u001b[0m\u001b[1;33m(\u001b[0m\u001b[0mcon\u001b[0m\u001b[1;33m,\u001b[0m \u001b[0mstr\u001b[0m\u001b[1;33m)\u001b[0m\u001b[1;33m:\u001b[0m\u001b[1;33m\u001b[0m\u001b[1;33m\u001b[0m\u001b[0m\n\u001b[0;32m    658\u001b[0m         \u001b[1;32mraise\u001b[0m \u001b[0mImportError\u001b[0m\u001b[1;33m(\u001b[0m\u001b[1;34m\"Using URI string without sqlalchemy installed.\"\u001b[0m\u001b[1;33m)\u001b[0m\u001b[1;33m\u001b[0m\u001b[1;33m\u001b[0m\u001b[0m\n",
      "\u001b[1;32mC:\\Anaconda3\\lib\\site-packages\\pandas\\io\\sql.py\u001b[0m in \u001b[0;36m__init__\u001b[1;34m(self, engine, schema, meta)\u001b[0m\n\u001b[0;32m   1145\u001b[0m             \u001b[1;32mfrom\u001b[0m \u001b[0msqlalchemy\u001b[0m\u001b[1;33m.\u001b[0m\u001b[0mschema\u001b[0m \u001b[1;32mimport\u001b[0m \u001b[0mMetaData\u001b[0m\u001b[1;33m\u001b[0m\u001b[1;33m\u001b[0m\u001b[0m\n\u001b[0;32m   1146\u001b[0m \u001b[1;33m\u001b[0m\u001b[0m\n\u001b[1;32m-> 1147\u001b[1;33m             \u001b[0mmeta\u001b[0m \u001b[1;33m=\u001b[0m \u001b[0mMetaData\u001b[0m\u001b[1;33m(\u001b[0m\u001b[0mself\u001b[0m\u001b[1;33m.\u001b[0m\u001b[0mconnectable\u001b[0m\u001b[1;33m,\u001b[0m \u001b[0mschema\u001b[0m\u001b[1;33m=\u001b[0m\u001b[0mschema\u001b[0m\u001b[1;33m)\u001b[0m\u001b[1;33m\u001b[0m\u001b[1;33m\u001b[0m\u001b[0m\n\u001b[0m\u001b[0;32m   1148\u001b[0m \u001b[1;33m\u001b[0m\u001b[0m\n\u001b[0;32m   1149\u001b[0m         \u001b[0mself\u001b[0m\u001b[1;33m.\u001b[0m\u001b[0mmeta\u001b[0m \u001b[1;33m=\u001b[0m \u001b[0mmeta\u001b[0m\u001b[1;33m\u001b[0m\u001b[1;33m\u001b[0m\u001b[0m\n",
      "\u001b[1;31mTypeError\u001b[0m: __init__() got multiple values for argument 'schema'"
     ]
    }
   ],
   "source": [
    "engine = create_engine('sqlite://', echo=False)\n",
    "df.to_sql(name='recipes.sqlite', con=engine)"
   ]
  },
  {
   "cell_type": "code",
   "execution_count": null,
   "metadata": {},
   "outputs": [],
   "source": [
    "# TypeError: __init__() got multiple values for argument 'schema'\n",
    "#  this is an indication of a mismatch between pandas and SQLAlchemy version.\n",
    "# It is working on these fixed versions.\n",
    "# pandas==1.1.5 SQLAlchemy==1.4.45"
   ]
  },
  {
   "cell_type": "code",
   "execution_count": null,
   "metadata": {},
   "outputs": [],
   "source": [
    "# with engine.connect() as conn:\n",
    "#     conn.execute(text(\"SELECT * FROM users\")).fetchall()"
   ]
  }
 ],
 "metadata": {
  "kernelspec": {
   "display_name": "Python 3",
   "language": "python",
   "name": "python3"
  },
  "language_info": {
   "codemirror_mode": {
    "name": "ipython",
    "version": 3
   },
   "file_extension": ".py",
   "mimetype": "text/x-python",
   "name": "python",
   "nbconvert_exporter": "python",
   "pygments_lexer": "ipython3",
   "version": "3.8.5"
  },
  "toc": {
   "base_numbering": 1,
   "nav_menu": {},
   "number_sections": true,
   "sideBar": true,
   "skip_h1_title": true,
   "title_cell": "Table of Contents",
   "title_sidebar": "Contents",
   "toc_cell": false,
   "toc_position": {},
   "toc_section_display": true,
   "toc_window_display": true
  },
  "varInspector": {
   "cols": {
    "lenName": 16,
    "lenType": 16,
    "lenVar": 40
   },
   "kernels_config": {
    "python": {
     "delete_cmd_postfix": "",
     "delete_cmd_prefix": "del ",
     "library": "var_list.py",
     "varRefreshCmd": "print(var_dic_list())"
    },
    "r": {
     "delete_cmd_postfix": ") ",
     "delete_cmd_prefix": "rm(",
     "library": "var_list.r",
     "varRefreshCmd": "cat(var_dic_list()) "
    }
   },
   "types_to_exclude": [
    "module",
    "function",
    "builtin_function_or_method",
    "instance",
    "_Feature"
   ],
   "window_display": false
  }
 },
 "nbformat": 4,
 "nbformat_minor": 4
}
