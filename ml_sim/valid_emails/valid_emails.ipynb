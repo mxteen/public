{
 "cells": [
  {
   "cell_type": "markdown",
   "metadata": {},
   "source": [
    "# Email validator"
   ]
  },
  {
   "cell_type": "markdown",
   "metadata": {},
   "source": [
    "The aim of this project was to optimize and improve the performance of the initial Python code for email validation by implementing various optimizations, ultimately resulting in a faster and more efficient implementation."
   ]
  },
  {
   "cell_type": "code",
   "execution_count": 2,
   "metadata": {},
   "outputs": [],
   "source": [
    "import re\n",
    "from typing import List"
   ]
  },
  {
   "cell_type": "markdown",
   "metadata": {},
   "source": [
    "## Version 1"
   ]
  },
  {
   "cell_type": "code",
   "execution_count": 3,
   "metadata": {},
   "outputs": [],
   "source": [
    "def valid_emails(strings: List[str]) -> List[str]:\n",
    "    \"\"\"Take list of potential emails and returns only valid ones\"\"\"\n",
    "\n",
    "    valid_email_regex = r\"^[a-zA-Z0-9_.+-]+@[a-zA-Z0-9-]+\\.[a-zA-Z0-9-.]+$\"\n",
    "\n",
    "    def is_valid_email(email: str) -> bool:\n",
    "        return bool(re.fullmatch(valid_email_regex, email))\n",
    "\n",
    "    emails = []\n",
    "    for email in strings:\n",
    "        if is_valid_email(email):\n",
    "            emails.append(email)\n",
    "\n",
    "    return emails"
   ]
  },
  {
   "cell_type": "markdown",
   "metadata": {},
   "source": [
    "There are several ways to potentially speed up the code:\n",
    "\n",
    "1. The regular expression pattern is currently compiled every time the function is called. One solution is to precompile the pattern outside of the function and pass it in as an argument. This can speed up the function because the pattern only needs to be compiled once, rather than every time the function is called.\n",
    "2. Instead of using a for loop to append valid emails to a list, you can use a list comprehension to create the list directly. List comprehensions are generally faster than for loops.\n",
    "3. The built-in `filter()` function can be used to filter the list of strings based on the `is_valid_email()` function. This is generally faster than a for loop or list comprehension because it avoids creating a new list."
   ]
  },
  {
   "cell_type": "markdown",
   "metadata": {},
   "source": [
    "## Version 2. Precompiled regular expression"
   ]
  },
  {
   "cell_type": "code",
   "execution_count": 4,
   "metadata": {},
   "outputs": [],
   "source": [
    "valid_email_regex = re.compile(r\"^[a-zA-Z0-9_.+-]+@[a-zA-Z0-9-]+\\.[a-zA-Z0-9-.]+$\")\n",
    "\n",
    "def valid_emails_2(strings: List[str], pattern: str) -> List[str]:\n",
    "    \"\"\"Take list of potential emails and returns only valid ones\"\"\"\n",
    "\n",
    "    def is_valid_email(email: str) -> bool:\n",
    "        return bool(pattern.fullmatch(email))\n",
    "\n",
    "    emails = []\n",
    "    for email in strings:\n",
    "        if is_valid_email(email):\n",
    "            emails.append(email)\n",
    "\n",
    "    return emails"
   ]
  },
  {
   "cell_type": "markdown",
   "metadata": {},
   "source": [
    "## Version 3. Precompiled regular expression and list comprehension"
   ]
  },
  {
   "cell_type": "code",
   "execution_count": 8,
   "metadata": {},
   "outputs": [],
   "source": [
    "valid_email_regex = re.compile(r\"^[a-zA-Z0-9_.+-]+@[a-zA-Z0-9-]+\\.[a-zA-Z0-9-.]+$\")\n",
    "\n",
    "def valid_emails_3(strings: List[str], pattern: str) -> List[str]:\n",
    "    \"\"\"Take list of potential emails and returns only valid ones\"\"\"\n",
    "\n",
    "    def is_valid_email(email: str) -> bool:\n",
    "        return bool(pattern.fullmatch(email))\n",
    "\n",
    "    emails = [email for email in strings if is_valid_email(email)]\n",
    "\n",
    "    return emails"
   ]
  },
  {
   "cell_type": "markdown",
   "metadata": {},
   "source": [
    "## Version 4. Precompiled regular expression and filter"
   ]
  },
  {
   "cell_type": "code",
   "execution_count": 13,
   "metadata": {},
   "outputs": [],
   "source": [
    "valid_email_regex = re.compile(r\"^[a-zA-Z0-9_.+-]+@[a-zA-Z0-9-]+\\.[a-zA-Z0-9-.]+$\")\n",
    "\n",
    "def valid_emails_4(strings: List[str], pattern: str) -> List[str]:\n",
    "    \"\"\"Take list of potential emails and returns only valid ones\"\"\"\n",
    "\n",
    "    def is_valid_email(email: str) -> bool:\n",
    "        return bool(pattern.fullmatch(email))\n",
    "\n",
    "    emails = list(filter(is_valid_email, strings))\n",
    "\n",
    "    return emails"
   ]
  },
  {
   "cell_type": "markdown",
   "metadata": {},
   "source": [
    "## Testing"
   ]
  },
  {
   "cell_type": "code",
   "execution_count": 5,
   "metadata": {},
   "outputs": [],
   "source": [
    "emails = [\n",
    "    \"example1@email.com\", \"invalid1.email@.com\", \"anotherexample1@email.com\", \"not_an_email1\", \"email1@domain.\", \"no_at_symbol1.com\",\n",
    "    \"example2@email.com\", \"invalid2.email@.com\", \"anotherexample2@email.com\", \"not_an_email2\", \"email2@domain.\", \"no_at_symbol2.com\",\n",
    "    \"example3@email.com\", \"invalid3.email@.com\", \"anotherexample3@email.com\", \"not_an_email3\", \"email3@domain.\", \"no_at_symbol3.com\",\n",
    "    \"example4@email.com\", \"invalid4.email@.com\", \"anotherexample4@email.com\", \"not_an_email4\", \"email4@domain.\", \"no_at_symbol4.com\",\n",
    "    \"example5@email.com\", \"invalid5.email@.com\", \"anotherexample5@email.com\", \"not_an_email5\", \"email5@domain.\", \"no_at_symbol5.com\",\n",
    "    \"example6@email.com\", \"invalid6.email@.com\", \"anotherexample6@email.com\", \"not_an_email6\", \"email6@domain.\", \"no_at_symbol6.com\",\n",
    "    \"example7@email.com\", \"invalid7.email@.com\", \"anotherexample7@email.com\", \"not_an_email7\", \"email7@domain.\", \"no_at_symbol7.com\",\n",
    "    \"example8@email.com\", \"invalid8.email@.com\", \"anotherexample8@email.com\", \"not_an_email8\", \"email8@domain.\", \"no_at_symbol8.com\",\n",
    "    \"example9@email.com\", \"invalid9.email@.com\", \"anotherexample9@email.com\", \"not_an_email9\", \"email9@domain.\", \"no_at_symbol9.com\",\n",
    "    \"example10@email.com\", \"invalid10.email@.com\", \"anotherexample10@email.com\", \"not_an_email10\", \"email10@domain.\", \"no_at_symbol10.com\",\n",
    "]"
   ]
  },
  {
   "cell_type": "code",
   "execution_count": 15,
   "metadata": {},
   "outputs": [
    {
     "name": "stdout",
     "output_type": "stream",
     "text": [
      "244 µs ± 21.4 µs per loop (mean ± std. dev. of 7 runs, 1000 loops each)\n"
     ]
    }
   ],
   "source": [
    "%%timeit\n",
    "valid_emails(emails)"
   ]
  },
  {
   "cell_type": "code",
   "execution_count": 16,
   "metadata": {},
   "outputs": [
    {
     "name": "stdout",
     "output_type": "stream",
     "text": [
      "121 µs ± 13.4 µs per loop (mean ± std. dev. of 7 runs, 10000 loops each)\n"
     ]
    }
   ],
   "source": [
    "%%timeit\n",
    "valid_emails_2(emails, valid_email_regex)"
   ]
  },
  {
   "cell_type": "code",
   "execution_count": 17,
   "metadata": {},
   "outputs": [
    {
     "name": "stdout",
     "output_type": "stream",
     "text": [
      "101 µs ± 11 µs per loop (mean ± std. dev. of 7 runs, 10000 loops each)\n"
     ]
    }
   ],
   "source": [
    "%%timeit\n",
    "valid_emails_3(emails, valid_email_regex)"
   ]
  },
  {
   "cell_type": "code",
   "execution_count": 18,
   "metadata": {},
   "outputs": [
    {
     "name": "stdout",
     "output_type": "stream",
     "text": [
      "87.9 µs ± 8.98 µs per loop (mean ± std. dev. of 7 runs, 10000 loops each)\n"
     ]
    }
   ],
   "source": [
    "%%timeit\n",
    "valid_emails_4(emails, valid_email_regex)"
   ]
  },
  {
   "cell_type": "markdown",
   "metadata": {},
   "source": [
    "This pet-project aimed to create a faster implementation of email validation in Python using regular expressions. The original code used a for loop to iterate over a list of potential emails, applying a regular expression pattern to each one to determine if it was a valid email. The new implementation incorporated several optimizations to speed up this process.\n",
    "\n",
    "Firstly, the regular expression pattern was precompiled outside of the function and passed in as an argument. This meant that the pattern was only compiled once, rather than every time the function was called, resulting in a significant performance boost.\n",
    "\n",
    "Secondly, instead of using a for loop to append valid emails to a list, a list comprehension was used to create the list directly. List comprehensions are generally faster than for loops and can result in improved performance.\n",
    "\n",
    "Lastly, the built-in filter() function was used to filter the list of strings based on the is_valid_email() function. This is generally faster than a for loop or list comprehension because it avoids creating a new list.\n",
    "\n",
    "In summary, this project showcased how the performance of a Python implementation for email validation can be enhanced through various optimizations, resulting in a faster and more efficient implementation."
   ]
  },
  {
   "cell_type": "code",
   "execution_count": null,
   "metadata": {},
   "outputs": [],
   "source": []
  }
 ],
 "metadata": {
  "kernelspec": {
   "display_name": "Python 3",
   "language": "python",
   "name": "python3"
  },
  "language_info": {
   "codemirror_mode": {
    "name": "ipython",
    "version": 3
   },
   "file_extension": ".py",
   "mimetype": "text/x-python",
   "name": "python",
   "nbconvert_exporter": "python",
   "pygments_lexer": "ipython3",
   "version": "3.8.5"
  },
  "toc": {
   "base_numbering": 1,
   "nav_menu": {},
   "number_sections": true,
   "sideBar": true,
   "skip_h1_title": true,
   "title_cell": "Table of Contents",
   "title_sidebar": "Contents",
   "toc_cell": false,
   "toc_position": {},
   "toc_section_display": true,
   "toc_window_display": true
  }
 },
 "nbformat": 4,
 "nbformat_minor": 4
}
