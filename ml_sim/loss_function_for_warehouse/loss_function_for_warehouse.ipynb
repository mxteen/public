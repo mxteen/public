{
 "cells": [
  {
   "cell_type": "markdown",
   "metadata": {},
   "source": [
    "# Making loss function"
   ]
  },
  {
   "cell_type": "markdown",
   "metadata": {},
   "source": [
    "## Problem description"
   ]
  },
  {
   "cell_type": "markdown",
   "metadata": {},
   "source": [
    "The final goal is to forecast the turnover of household appliances, which involves determining the appropriate quantity of each product to bring to a specific point of sale. Deliveries are made every three months.\n",
    "\n",
    "It's crucial to strike a balance between stocking enough inventory to satisfy demand and avoiding excess inventory that could be difficult to manage. If we don't stock enough inventory, we risk missing out on potential profits, as customers will be unable to purchase the equipment they need. Conversely, if we stock too much, we may end up with an overflowing warehouse, which could create logistical challenges and limit our ability to import newer models. \n",
    "\n",
    "Therefore, we must determine the optimal inventory level by developing a loss function that considers the cost of missed profits and the cost of excess inventory, among other factors. This approach will help us to find the right balance between meeting demand and minimizing inventory costs.\n",
    "\n",
    "The aim of this prioject is **to come up with a loss function** that would be adequate for a given business problem."
   ]
  },
  {
   "cell_type": "markdown",
   "metadata": {},
   "source": [
    "## Loss function"
   ]
  },
  {
   "cell_type": "markdown",
   "metadata": {},
   "source": [
    "The Root Mean Squared Logarithmic Error (RMSLE) would be the most appropriate metric to evaluate the performance of the forecasting model.\n",
    "\n",
    "* RMSLE is a commonly used metric for evaluating the accuracy of demand forecasting models. It is particularly useful when the demand data contains a wide range of values, including both small and large values. \n",
    "* The RMSLE penalizes the model more for underestimating large values than for underestimating small values, which is important in forecasting scenarios where there may be a few extreme values that have a significant impact on the overall performance of the model. It's acceptable if the model cannot accurately predict minor demand as it will not result in significant profit loss if we underestimate or import an excess amount of goods if we overestimate. However, if the model fails to predict substantial demand, it can lead to significant profit loss or logistical issues.\n",
    "* The Huber-loss and LINEX loss functions are also useful metrics for evaluating forecasting models, but they require additional information such as cost functions or risk preferences. We have only true and predicted values."
   ]
  },
  {
   "cell_type": "code",
   "execution_count": 66,
   "metadata": {},
   "outputs": [],
   "source": [
    "import numpy as np\n",
    "import seaborn as sns\n",
    "import matplotlib.pyplot as plt\n",
    "\n",
    "\n",
    "def turnover_error(y_true: np.array, y_pred: np.array) -> float:\n",
    "    \"\"\"\n",
    "    Calculate Root Mean Squared Logarithmic Error between two numpy arrays\n",
    "\n",
    "    We use the log1p function instead of the log function to avoid errors \n",
    "    when taking the logarithm of values close to zero. \n",
    "    The log1p function returns the natural logarithm of 1 plus the input value,\n",
    "    which is mathematically equivalent to log(1 + x) but more numerically stable.\n",
    "\n",
    "    \"\"\"\n",
    "    assert len(y_true) == len(\n",
    "        y_pred), \"The length of y_true and y_pred should be the same.\"\n",
    "    assert (y_true >= 0).all() and (\n",
    "        y_pred >= 0).all(), \"Both y_true and y_pred should be non-negative.\"\n",
    "\n",
    "    # Compute the RMSLE\n",
    "    error = np.sqrt(np.mean(np.power(np.log1p(y_pred) - np.log1p(y_true), 2)))\n",
    "\n",
    "    return error"
   ]
  },
  {
   "cell_type": "markdown",
   "metadata": {},
   "source": [
    "## Testing"
   ]
  },
  {
   "cell_type": "code",
   "execution_count": 63,
   "metadata": {},
   "outputs": [],
   "source": [
    "# Let`s check this: \n",
    "# The RMSLE penalizes the model more for underestimating large values \n",
    "# than for underestimating small values\n",
    "underestimating_model_errs = []\n",
    "overestimating_model_errs = []\n",
    "for _ in range(30):\n",
    "    y_true = np.random.randint(100, 500, size=100)\n",
    "    y_pred = np.random.randint(100, 500, size=100)\n",
    "    underestimating_model_errs.append(turnover_error(y_true, y_pred-50))\n",
    "    overestimating_model_errs.append(turnover_error(y_true, y_pred+50))"
   ]
  },
  {
   "cell_type": "code",
   "execution_count": 65,
   "metadata": {},
   "outputs": [
    {
     "data": {
      "image/png": "[encoded data removed]",
      "text/plain": [
       "<Figure size 432x288 with 1 Axes>"
      ]
     },
     "metadata": {
      "needs_background": "light"
     },
     "output_type": "display_data"
    }
   ],
   "source": [
    "sns.histplot(underestimating_model_errs,\n",
    "             color='orange',\n",
    "             alpha=0.5,\n",
    "             label='penalties for underestimation')\n",
    "sns.histplot(overestimating_model_errs,\n",
    "             color='blue',\n",
    "             alpha=0.5,\n",
    "             label='penalties for overestimation')\n",
    "plt.legend()\n",
    "plt.show()"
   ]
  },
  {
   "cell_type": "markdown",
   "metadata": {},
   "source": [
    "The RMSLE penalizes the model more for underestimating than for overestimation"
   ]
  },
  {
   "cell_type": "code",
   "execution_count": null,
   "metadata": {},
   "outputs": [],
   "source": []
  }
 ],
 "metadata": {
  "kernelspec": {
   "display_name": "Python 3",
   "language": "python",
   "name": "python3"
  },
  "language_info": {
   "codemirror_mode": {
    "name": "ipython",
    "version": 3
   },
   "file_extension": ".py",
   "mimetype": "text/x-python",
   "name": "python",
   "nbconvert_exporter": "python",
   "pygments_lexer": "ipython3",
   "version": "3.8.5"
  },
  "toc": {
   "base_numbering": 1,
   "nav_menu": {},
   "number_sections": true,
   "sideBar": true,
   "skip_h1_title": true,
   "title_cell": "Table of Contents",
   "title_sidebar": "Contents",
   "toc_cell": false,
   "toc_position": {},
   "toc_section_display": true,
   "toc_window_display": true
  }
 },
 "nbformat": 4,
 "nbformat_minor": 4
}
