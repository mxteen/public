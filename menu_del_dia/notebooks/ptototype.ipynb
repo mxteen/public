{
 "cells": [
  {
   "cell_type": "markdown",
   "metadata": {},
   "source": [
    "# Сервис по составлению меню питания на каждый день\n",
    "## Описание функционала\n",
    "**Концепция**\n",
    "* Это будет телеграм-бот (или email-рассылка), который высылает каждый вечер список блюд и их рецепты на следующий день, а возможно, и примерные расходы не продукты.\n",
    "* Саначала нужно пройти опрос (в будущем после успешного опробования MVP): \n",
    "    * на сколько человек рассчитывать (или сколько порций);\n",
    "    * едите или не едите мясо, грибы, мясо птицы, морепродукты (креветки, мидии), рыба белая, красная;\n",
    "    * какие блюда в обеде: салат, суп, горячее (второе);\n",
    "    * какие блюда в ужине: салат, суп, горячее (второе).\n",
    "* В первом сообщении (перед началом 7 дневного периода) будет отправлено на ознакомление:\n",
    "    * список блюда на каждый день с разделением на завтрак, обед и ужин;\n",
    "    * список необходимых продуктов и их количество.\n",
    "    * примерные затраты на питание на неделю (нужен предварительный ввод цен на продукты)\n",
    "* Дисклеймер про аллергию и т.п.\n",
    "* Куда писать отзывы и предложения: google-форма для конструктивной критики с заранее заданной структурой (или бот) или прям почту.\n",
    "\n",
    "**Маинфест**\n",
    "1. Я решаю свою проблему и мне неважно, что подобный софт уже есть. \n",
    "2. П.1 - потому что я хочу чтобы программа была такой, как я хочу. Хочу чтобы она \n",
    "    * включала в себя только проверенные и опробованные мною блюда;\n",
    "    * была в удобном для меня виде - телеграмм бот с минималистичным текстом и понятной последовательностью действий;\n",
    "    * составляла список покупок на неделю вперёд."
   ]
  },
  {
   "cell_type": "markdown",
   "metadata": {},
   "source": [
    "## Добыча рецептов"
   ]
  },
  {
   "cell_type": "code",
   "execution_count": 8,
   "metadata": {},
   "outputs": [],
   "source": [
    "# сайт с рецептами\n",
    "with open('../recepies_websites.txt') as f:\n",
    "    recepies_website = f.readline()"
   ]
  },
  {
   "cell_type": "code",
   "execution_count": 9,
   "metadata": {},
   "outputs": [],
   "source": [
    "import requests\n",
    "from bs4 import BeautifulSoup"
   ]
  },
  {
   "cell_type": "code",
   "execution_count": 32,
   "metadata": {},
   "outputs": [
    {
     "name": "stdout",
     "output_type": "stream",
     "text": [
      "Recipe Title: Блины\n",
      "Ingredients: ['500\\xa0мл молока', '2 яйца', '20\\xa0мл растительного масла', '20\\xa0г сахара', '200\\xa0г муки', '10\\xa0г разрыхлителя', '3\\xa0г соли']\n"
     ]
    }
   ],
   "source": [
    "# Replace 'url' with the URL of the recipe page you want to scrape\n",
    "url = recepies_website + '262-Blinyi.html'\n",
    "\n",
    "# We use the requests library to send an HTTP GET request to the URL of the recipe page.\n",
    "response = requests.get(url)\n",
    "\n",
    "# If the request is successful (status code 200), \n",
    "# we create a BeautifulSoup object and specify the parser to use (in this case, 'html.parser').\n",
    "# Check if the request was successful\n",
    "if response.status_code == 200:\n",
    "    soup = BeautifulSoup(response.text, 'html.parser')\n",
    "\n",
    "    # Locate and extract specific elements from the page\n",
    "    # We use the find and find_all methods to locate specific HTML elements \n",
    "    # that contain the information we want (e.g., recipe title, ingredients, instructions)\n",
    "    recipe_title = soup.find('title').text\n",
    "    \n",
    "    ingredients_box = soup.find(id=\"ingredientsbox\")\n",
    "    ingredients = [li.text for li in ingredients_box.find_all(\"li\", class_=\"p-ingredient\")]\n",
    "#     instructions = [p.text for p in soup.find_all('p', class_='instruction')]\n",
    "\n",
    "    # Print the extracted data\n",
    "    print(\"Recipe Title:\", recipe_title)\n",
    "    print(\"Ingredients:\", ingredients)\n",
    "#     print(\"Instructions:\", instructions)\n",
    "else:\n",
    "    print(\"Failed to retrieve the page. Status code:\", response.status_code)\n"
   ]
  },
  {
   "cell_type": "markdown",
   "metadata": {},
   "source": [
    "## Базы данных"
   ]
  },
  {
   "cell_type": "code",
   "execution_count": null,
   "metadata": {},
   "outputs": [],
   "source": [
    "# Масса ингрижиентов указана в граммах\n",
    "# Про соль, перец, растительное масло не пишем\n",
    "\n",
    "# Пока база данных - словарик; потом будет mysql\n",
    "db = {\n",
    "    'Томатный суп с фрикадельками': {\n",
    "        'meal_types':['обед', 'ужин']\n",
    "        'ingridients': [\n",
    "            'фарш из мяса индейки', 'картофель', 'подмидор',\n",
    "            'болгарский перец', 'томатная паста', 'лук репчатый',\n",
    "            'молотая паприка', 'сушёный укроп, лук и петрушка', 'соль',\n",
    "            'перец горошком', 'растительное масло'\n",
    "        ],\n",
    "        'ingredient_quantity':\n",
    "        [31.25, 31.25, 21.875, 12.5, 9.375, 9.375, 0.4375, 0.4375, 0, 0, 0],\n",
    "        'steps': [\n",
    "            'Репчатый лук мелко нарезать',\n",
    "            'Болгарский перец очистить от семян и нарезать',\n",
    "            'Прямо в кастрюле обжарить лук на растительном масле',\n",
    "            'Добавить паприку и сушёный укроп, лук и петрушку', 'Перемешать',\n",
    "            'Добавить болгарский перец', 'Перемешать', 'Добавить помидоры',\n",
    "            'Перемешать', 'Налить воду', 'Добавить соль и перец', 'Перемешать',\n",
    "            'Почистить картофель и нарезать', 'Сделать фрикадельки из фарша',\n",
    "            'Довести воду в кастрюле до кипения (в которой уже есть лук, перец, травы)',\n",
    "            'Добавить картофель', 'Варить в течение 5 минут',\n",
    "            'Добавить томатную пасту', 'Перемешать', 'Добавить фрикадельки',\n",
    "            'Варить 10 минут (если фарш не из птицы, то дольше)'\n",
    "        ]\n",
    "    },\n",
    "    'recipe_name':{\n",
    "        'ingridients':[],\n",
    "        'ingredient_quantity'[],\n",
    "        'steps'[]\n",
    "    },\n",
    "}"
   ]
  },
  {
   "cell_type": "code",
   "execution_count": null,
   "metadata": {},
   "outputs": [],
   "source": [
    "# сколько порций? \n",
    "n = 4\n",
    "recipe_name = 'Томатный суп с фрикадельками'\n",
    "for ing, mass, in zip(db[recipe_name]['ingridients'], db[recipe_name]['ingredient_quantity']):\n",
    "    print(ing, '-', n * mass, 'г')"
   ]
  },
  {
   "cell_type": "code",
   "execution_count": null,
   "metadata": {},
   "outputs": [],
   "source": [
    "7/16"
   ]
  },
  {
   "cell_type": "code",
   "execution_count": null,
   "metadata": {},
   "outputs": [],
   "source": [
    "steps = \"\"\"\n",
    "\n",
    "\"\"\" \n",
    "\n",
    "steps.strip().split('.\\n')"
   ]
  },
  {
   "cell_type": "markdown",
   "metadata": {},
   "source": [
    "Почитать:\n",
    "* https://stackoverflow.com/questions/38463361/creating-a-recipe-database\n",
    "* https://stackoverflow.com/questions/54005899/how-do-i-properly-design-a-data-model-for-recipe-ingredient-using-mongodb\n",
    "* https://infoeda.com/skolko-v-stolovoj-lozhke-gramm-i-millilitrov-tablica.html"
   ]
  },
  {
   "cell_type": "code",
   "execution_count": null,
   "metadata": {},
   "outputs": [],
   "source": []
  }
 ],
 "metadata": {
  "kernelspec": {
   "display_name": "Python 3",
   "language": "python",
   "name": "python3"
  },
  "language_info": {
   "codemirror_mode": {
    "name": "ipython",
    "version": 3
   },
   "file_extension": ".py",
   "mimetype": "text/x-python",
   "name": "python",
   "nbconvert_exporter": "python",
   "pygments_lexer": "ipython3",
   "version": "3.8.5"
  },
  "toc": {
   "base_numbering": 1,
   "nav_menu": {},
   "number_sections": true,
   "sideBar": true,
   "skip_h1_title": true,
   "title_cell": "Table of Contents",
   "title_sidebar": "Contents",
   "toc_cell": false,
   "toc_position": {},
   "toc_section_display": true,
   "toc_window_display": true
  },
  "varInspector": {
   "cols": {
    "lenName": 16,
    "lenType": 16,
    "lenVar": 40
   },
   "kernels_config": {
    "python": {
     "delete_cmd_postfix": "",
     "delete_cmd_prefix": "del ",
     "library": "var_list.py",
     "varRefreshCmd": "print(var_dic_list())"
    },
    "r": {
     "delete_cmd_postfix": ") ",
     "delete_cmd_prefix": "rm(",
     "library": "var_list.r",
     "varRefreshCmd": "cat(var_dic_list()) "
    }
   },
   "types_to_exclude": [
    "module",
    "function",
    "builtin_function_or_method",
    "instance",
    "_Feature"
   ],
   "window_display": false
  }
 },
 "nbformat": 4,
 "nbformat_minor": 4
}
